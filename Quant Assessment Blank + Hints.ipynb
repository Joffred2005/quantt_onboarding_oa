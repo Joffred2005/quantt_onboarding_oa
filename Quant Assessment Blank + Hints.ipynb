{
 "cells": [
  {
   "cell_type": "markdown",
   "metadata": {
    "deletable": false,
    "editable": false,
    "nbgrader": {
     "cell_type": "markdown",
     "checksum": "f5c4db74e2600d576f856d6226222abb",
     "grade": false,
     "grade_id": "cell-9d02e3a9d3423fef",
     "locked": true,
     "schema_version": 3,
     "solution": false,
     "task": false
    }
   },
   "source": [
    "### **Quant Simulation Challenge 1: Price Making**\n",
    "\n",
    "In this challenge, your task is to build a simple, automated market maker. Using **object-oriented programming**, you will create a class that can provide a two-sided price quote (a bid and an offer) for any given asset.\n",
    "\n",
    "Your model will need to calculate quotes that are **2% away** from the current market price.\n",
    "\n",
    "<div style=\"background-color: #E7F3FE; border-left: 6px solid #2196F3; padding: 15px; margin-bottom: 15px; border-radius: 5px;\">\n",
    "<h4>What is Market Making?</h4>\n",
    "<p>When a large client (like a hedge fund) wants to trade, they ask a Market Maker for a price. </p>\n",
    "<ul>\n",
    "    <li>The client tells you <i>what</i> they want to trade (e.g., Apple shares) and <i>how many</i>.</li>\n",
    "    <li>They don't tell you if they want to <b>buy</b> or <b>sell</b>.</li>\n",
    "    <li>Because of this, you must provide a price for both scenarios:</li>\n",
    "    <ul>\n",
    "        <li><b>Bid Price:</b> The price the client can <b>sell</b> at.</li>\n",
    "        <li><b>Offer Price:</b> The price the client can <b>buy</b> at.</li>\n",
    "    </ul>\n",
    "</ul>\n",
    "</div>\n",
    "\n",
    "#### **Calculation Rules**\n",
    "\n",
    "For this challenge, your bid and offer prices should be calculated using a simple 2% spread around the **reference price** (the current market price).\n",
    "\n",
    "* **Bid Price** = Reference Price $\\times$ (1 - 0.02)\n",
    "* **Offer Price** = Reference Price $\\times$ (1 + 0.02)\n",
    "\n",
    "<div style=\"background-color: #F8F9F9; border: 1px solid #DEE2E6; padding: 15px; margin-bottom: 15px; border-radius: 5px;\">\n",
    "<h4>For Example:</h4>\n",
    "<p>\n",
    "If a client requests a quote for Apple and its current reference price is <b>\\$100</b>, your market maker would provide the following quote:\n",
    "</p>\n",
    "<p style=\"text-align:center; font-size:1.2em; font-family:monospace;\">\n",
    "<b>Bid: \\$98.00 — \\$102.00 :Offer</b>\n",
    "</p>\n",
    "</div>\n",
    "\n",
    "Now, let's import the packages you will need for this notebook."
   ]
  },
  {
   "cell_type": "code",
   "execution_count": null,
   "metadata": {
    "deletable": false,
    "editable": false,
    "nbgrader": {
     "cell_type": "code",
     "checksum": "9e5fa09d80d416a8f0b3fb67a6ec6dad",
     "grade": false,
     "grade_id": "cell-4a7a0335193cf40f",
     "locked": true,
     "schema_version": 3,
     "solution": false,
     "task": false
    }
   },
   "outputs": [],
   "source": [
    "# The code in this cell is used to import the packages to be used throughout this notebook.\n",
    "# The following are private packages available only during this simulation:\n",
    "from AmplifyQuantTrading import Data\n",
    "from AmplifyQuantTrading import Exchange\n",
    "from AmplifyQuantTrading import MarketMaker\n",
    "from AmplifyQuantTrading import HedgeFund as hf\n",
    "# The following are publicly available packages:\n",
    "from matplotlib import pyplot as plt\n",
    "from pandas import *"
   ]
  },
  {
   "cell_type": "code",
   "execution_count": null,
   "metadata": {
    "deletable": false,
    "editable": false,
    "nbgrader": {
     "cell_type": "code",
     "checksum": "be71459b59175aea650745949d92f2c5",
     "grade": true,
     "grade_id": "cell-95700bc815297acc",
     "locked": true,
     "points": 0,
     "schema_version": 3,
     "solution": false,
     "task": false
    }
   },
   "outputs": [],
   "source": [
    "# HIDDEN PARAMS BOX"
   ]
  },
  {
   "cell_type": "markdown",
   "metadata": {
    "deletable": false,
    "editable": false,
    "nbgrader": {
     "cell_type": "markdown",
     "checksum": "329fd71f0dcb41d7c8558165b38825de",
     "grade": false,
     "grade_id": "986049254f29a043",
     "locked": true,
     "schema_version": 3,
     "solution": false,
     "task": false
    }
   },
   "source": [
    "<div style=\"background-color: #E7F3FE; border-left: 6px solid #2196F3; padding: 15px; margin-bottom: 15px; border-radius: 5px;\">\n",
    "<h4>Setting Up Our Data</h4>\n",
    "<p>The code below assigns our data to two main variables that we'll use throughout the project:</p>\n",
    "<ul>\n",
    "    <li><code>prices</code>: A series of live market prices for our assets.</li>\n",
    "    <li><code>price_requests</code>: A series of trade requests from our clients.</li>\n",
    "</ul>\n",
    "</div>"
   ]
  },
  {
   "cell_type": "code",
   "execution_count": null,
   "metadata": {
    "deletable": false,
    "editable": false,
    "nbgrader": {
     "cell_type": "code",
     "checksum": "9a588a16dc20f209963f264d1fca73c4",
     "grade": false,
     "grade_id": "cell-9baf2c67e380131a",
     "locked": true,
     "schema_version": 3,
     "solution": false,
     "task": false
    }
   },
   "outputs": [],
   "source": [
    "prices = Data.get_price_series(\"PricestoFeedserver\")\n",
    "price_requests = Data.get_price_requests(\"PriceRequeststoFeedserver\")"
   ]
  },
  {
   "cell_type": "markdown",
   "metadata": {
    "deletable": false,
    "editable": false,
    "nbgrader": {
     "cell_type": "markdown",
     "checksum": "d6db7e4dc86b18276588d870072e9110",
     "grade": false,
     "grade_id": "cell-6d01bcc8e93638af",
     "locked": true,
     "schema_version": 3,
     "solution": false,
     "task": false
    }
   },
   "source": [
    "### **Task A: Create a Sample Dataset**\n",
    "\n",
    "To make it easier to build and test your code, your first task is to create a smaller sample of data. You'll select the first **ten** trade requests from the main `price_requests` list.\n",
    "\n",
    "<div style=\"background-color: #E7F3FE; border-left: 6px solid #2196F3; padding: 15px; margin-bottom: 15px; border-radius: 5px;\">\n",
    "<h4>Your Task</h4>\n",
    "<p>\n",
    "Iterate through the <code>price_requests</code> data and append the first <b>10 requests</b> to a new list called <code>test_requests</code>.\n",
    "</p>\n",
    "</div>\n",
    "\n",
    "<div style=\"background-color: #F8F9F9; border: 1px solid #DEE2E6; padding: 10px; margin-top: 15px; border-radius: 5px; width:fit-content;\">\n",
    "💡 <b>Check your work:</b> The final <code>test_requests</code> list should contain exactly 10 items.\n",
    "</div>"
   ]
  },
  {
   "cell_type": "code",
   "execution_count": null,
   "metadata": {
    "deletable": false,
    "editable": false,
    "nbgrader": {
     "cell_type": "code",
     "checksum": "7191977fbabd42392987c14f75919712",
     "grade": false,
     "grade_id": "cell-9bdafaf242375e9d",
     "locked": true,
     "schema_version": 3,
     "solution": false,
     "task": false
    }
   },
   "outputs": [],
   "source": [
    "test_requests = []"
   ]
  },
  {
   "cell_type": "code",
   "execution_count": null,
   "metadata": {
    "deletable": false,
    "nbgrader": {
     "cell_type": "code",
     "checksum": "2b2920e31730ff07d7fac3cf55a64bcf",
     "grade": false,
     "grade_id": "cell-99b8ed7168ecabab",
     "locked": false,
     "schema_version": 3,
     "solution": true,
     "task": false
    }
   },
   "outputs": [],
   "source": [
    "# TASK A: Complete the loop to add the first 10 requests\n",
    "# Replace the ____ with your answers\n",
    "\n",
    "for index in range(0, 10):\n",
    "    test_requests.append(price_requests[index])"
   ]
  },
  {
   "cell_type": "markdown",
   "metadata": {
    "deletable": false,
    "editable": false,
    "nbgrader": {
     "cell_type": "markdown",
     "checksum": "00d5b58840c9084c0171e92cd289119f",
     "grade": false,
     "grade_id": "cell-3dba779b2f899fff",
     "locked": true,
     "schema_version": 3,
     "solution": false,
     "task": false
    }
   },
   "source": [
    "<div style=\"background-color: #D4EDDA; border-left: 6px solid #28A745; padding: 15px; margin-bottom: 15px; border-radius: 5px;\">\n",
    "    <h4>Output Check</h4>\n",
    "    <p>Run the cell below to display your final <code>test_requests</code> list.</p>\n",
    "    <p>You should see a list containing ten requests you selected. Each item in the list follows the format:</p>\n",
    "    <p><code>[ ticker, date, volume ]</code></p>\n",
    "</div>"
   ]
  },
  {
   "cell_type": "code",
   "execution_count": null,
   "metadata": {
    "deletable": false,
    "editable": false,
    "nbgrader": {
     "cell_type": "code",
     "checksum": "52021f3cd162f3afc0aff8087c73930d",
     "grade": false,
     "grade_id": "cell-adc7f93cc7ea51cb",
     "locked": true,
     "schema_version": 3,
     "solution": false,
     "task": false
    }
   },
   "outputs": [
    {
     "name": "stdout",
     "output_type": "stream",
     "text": [
      "[['FB', 0, 3010], ['AAPL', 10000, 6929], ['FB', 30000, 7015], ['FB', 70000, 4910], ['AAPL', 105000, 5783], ['AAPL', 110000, 3280], ['FB', 115000, 2465], ['AAPL', 120000, 656], ['FB', 130000, 1948], ['FB', 150000, 1386]]\n"
     ]
    }
   ],
   "source": [
    "print(test_requests)"
   ]
  },
  {
   "cell_type": "markdown",
   "metadata": {
    "deletable": false,
    "editable": false,
    "nbgrader": {
     "cell_type": "markdown",
     "checksum": "852f8c9f8ef6e9a1a4cb3365119a228d",
     "grade": false,
     "grade_id": "cell-25a3b2ee03baf3fb",
     "locked": true,
     "schema_version": 3,
     "solution": false,
     "task": false
    }
   },
   "source": [
    "<div style=\"background-color: #f8f9fa; border: 1px solid #dee2e6; padding: 15px; margin-bottom: 15px; border-radius: 5px;\">\n",
    "    <h4>For Grading Purposes Only</h4>\n",
    "    <p>You don't need to change anything in the cell below. It's used to check your work automatically. Please run it without making any changes.</p>\n",
    "</div>"
   ]
  },
  {
   "cell_type": "code",
   "execution_count": null,
   "metadata": {
    "deletable": false,
    "editable": false,
    "nbgrader": {
     "cell_type": "code",
     "checksum": "6b7a58d060182f70a2280ca49362fe61",
     "grade": true,
     "grade_id": "cell-e9a97c2f5d8e24e9",
     "locked": true,
     "points": 1,
     "schema_version": 3,
     "solution": false,
     "task": false
    }
   },
   "outputs": [],
   "source": [
    "# GRADING CELL"
   ]
  },
  {
   "cell_type": "markdown",
   "metadata": {
    "deletable": false,
    "editable": false,
    "nbgrader": {
     "cell_type": "markdown",
     "checksum": "bd8592c035e43120662b421723f9a638",
     "grade": false,
     "grade_id": "cell-1d4449695087e718",
     "locked": true,
     "schema_version": 3,
     "solution": false,
     "task": false
    }
   },
   "source": [
    "### **Task B: Find the Reference Price for Each Request**\n",
    "\n",
    "Now that you have your `test_requests`, you need to find the correct market price for each one. This is the **reference price** you'll use later to calculate your bid and offer quotes.\n",
    "\n",
    "<div style=\"background-color: #E7F3FE; border-left: 6px solid #2196F3; padding: 15px; margin-bottom: 15px; border-radius: 5px;\">\n",
    "<h4>Your Task</h4>\n",
    "<ol>\n",
    "    <li>Create an empty list called <code>request_with_prices</code>.</li>\n",
    "    <li>Loop through each request in your <code>test_requests</code> list.</li>\n",
    "    <li>For each request, find the matching price from the <code>prices</code> data by matching the <b>ticker</b> and <b>date</b>.</li>\n",
    "    <li>Append the original request and its reference price to your <code>request_with_prices</code> list.</li>\n",
    "</ol>\n",
    "</div>\n",
    "\n",
    "<div style=\"background-color: #F8F9F9; border: 1px solid #DEE2E6; padding: 15px; margin-bottom: 15px; border-radius: 5px;\">\n",
    "    <h4>Required Output Format</h4>\n",
    "    <p>Your final list must be a list of tuples. Each tuple should contain the original request (which is a list) and its corresponding reference price (a number).</p>\n",
    "    <p><b>Structure:</b> <code>[ ( [ticker, date, volume], reference_price ), ... ]</code></p>\n",
    "</div>"
   ]
  },
  {
   "cell_type": "code",
   "execution_count": null,
   "metadata": {
    "deletable": false,
    "editable": false,
    "nbgrader": {
     "cell_type": "code",
     "checksum": "923cf750c731323ebf74c6dadff34b56",
     "grade": false,
     "grade_id": "cell-b56b7fa1431f6b80",
     "locked": true,
     "schema_version": 3,
     "solution": false,
     "task": false
    }
   },
   "outputs": [],
   "source": [
    "request_with_prices = []"
   ]
  },
  {
   "cell_type": "code",
   "execution_count": null,
   "metadata": {
    "deletable": false,
    "nbgrader": {
     "cell_type": "code",
     "checksum": "715bd3867218867466e1760ffc6439b8",
     "grade": false,
     "grade_id": "cell-0477647161607c09",
     "locked": false,
     "schema_version": 3,
     "solution": true,
     "task": false
    }
   },
   "outputs": [],
   "source": [
    "# TASK B: Match prices to requests by comparing ticker and date\n",
    "# Replace the ____ with your answers\n",
    "\n",
    "for price in prices:\n",
    "    for request in test_requests:\n",
    "        if price[0] == request[1] and price[1] == request[1]:\n",
    "            request_with_prices.append((request), price[2]))"
   ]
  },
  {
   "cell_type": "markdown",
   "metadata": {
    "deletable": false,
    "editable": false,
    "nbgrader": {
     "cell_type": "markdown",
     "checksum": "2ad925d44c0880f6da9b69172b1de295",
     "grade": false,
     "grade_id": "cell-6a12060e42fe9365",
     "locked": true,
     "schema_version": 3,
     "solution": false,
     "task": false
    }
   },
   "source": [
    "<div style=\"background-color: #D4EDDA; border-left: 6px solid #28A745; padding: 15px; margin-bottom: 15px; border-radius: 5px;\">\n",
    "    <h4>Output Check</h4>\n",
    "    <p>Run the cell below to check your <code>request_with_prices</code> list.</p>\n",
    "    <p>The output confirms each trade request has been paired with its reference price, following the required format:</p>\n",
    "    <p><b>Structure:</b> <code>[ ( [ticker, date, volume], reference_price ), ... ]</code></p>\n",
    "</div>"
   ]
  },
  {
   "cell_type": "code",
   "execution_count": null,
   "metadata": {
    "deletable": false,
    "editable": false,
    "nbgrader": {
     "cell_type": "code",
     "checksum": "8c17584499a821a613bcd67656ca28ec",
     "grade": false,
     "grade_id": "cell-3f2db2da4086b547",
     "locked": true,
     "schema_version": 3,
     "solution": false,
     "task": false
    }
   },
   "outputs": [
    {
     "name": "stdout",
     "output_type": "stream",
     "text": [
      "[(['FB', 0, 3010], 194.44), (['AAPL', 10000, 6929], 74.63), (['FB', 30000, 7015], 195.75), (['FB', 70000, 4910], 193.3), (['AAPL', 105000, 5783], 73.13), (['AAPL', 110000, 3280], 73.83), (['FB', 115000, 2465], 185.76), (['AAPL', 120000, 656], 76.56), (['FB', 130000, 1948], 191.32), (['FB', 150000, 1386], 195.82)]\n"
     ]
    }
   ],
   "source": [
    "print(request_with_prices)"
   ]
  },
  {
   "cell_type": "markdown",
   "metadata": {
    "deletable": false,
    "editable": false,
    "nbgrader": {
     "cell_type": "markdown",
     "checksum": "9e62147ec092c6c8634aea568c2ff73c",
     "grade": false,
     "grade_id": "cell-2d340453b292d4ab",
     "locked": true,
     "schema_version": 3,
     "solution": false,
     "task": false
    }
   },
   "source": [
    "\n",
    "<div style=\"background-color: #f8f9fa; border: 1px solid #dee2e6; padding: 15px; margin-bottom: 15px; border-radius: 5px;\">\n",
    "    <h4>For Grading Purposes Only</h4>\n",
    "    <p>You don't need to change anything in the cell below. It's used to check your work automatically. Please run it without making any changes.</p>\n",
    "</div>"
   ]
  },
  {
   "cell_type": "code",
   "execution_count": null,
   "metadata": {
    "deletable": false,
    "editable": false,
    "nbgrader": {
     "cell_type": "code",
     "checksum": "ec78ea6f6773d68628d2f298b5a461fe",
     "grade": true,
     "grade_id": "cell-f12ce7c5321e77ae",
     "locked": true,
     "points": 1,
     "schema_version": 3,
     "solution": false,
     "task": false
    }
   },
   "outputs": [],
   "source": [
    "# GRADING CELL"
   ]
  },
  {
   "cell_type": "markdown",
   "metadata": {
    "deletable": false,
    "editable": false,
    "nbgrader": {
     "cell_type": "markdown",
     "checksum": "3e7bc161eb4337ca05c33c749ed05e4c",
     "grade": false,
     "grade_id": "cell-9d946755bc1a9840",
     "locked": true,
     "schema_version": 3,
     "solution": false,
     "task": false
    }
   },
   "source": [
    "### **Task C: Build a `QuotedTrade` Class**\n",
    "\n",
    "It's time to turn your data into a structured quote. Instead of using lists and tuples, you will now use **Object-Oriented Programming (OOP)** to create a `QuotedTrade` object for each request.\n",
    "\n",
    "Using a class is a clean and professional way to package all the information related to a single trade. This makes your code easier to read, manage, and eventually send to clients.\n",
    "\n",
    "<div style=\"background-color: #F6DDDB; border-left: 6px solid #CE443B; padding: 15px; margin-bottom: 15px; border-radius: 5px;\">\n",
    "<h4>Class Blueprint: `QuotedTrade`</h4>\n",
    "<p>Your class will act as a blueprint for every quote you create. Each object made from this class must contain the following attributes:</p>\n",
    "<ul>\n",
    "    <li><code>ticker</code>: The asset's name (String)</li>\n",
    "    <li><code>trade_volume</code>: The number of shares requested (Integer)</li>\n",
    "    <li><code>ref_price</code>: The market price at the time of the request (Float)</li>\n",
    "    <li><code>bid_price</code>: Your calculated price for the client to sell at (Float)</li>\n",
    "    <li><code>offer_price</code>: Your calculated price for the client to buy at (Float)</li>\n",
    "    <li><code>date</code>: The timestamp of the request (Integer)</li>\n",
    "</ul>\n",
    "</div>\n",
    "\n",
    "<div style=\"background-color: #E7F3FE; border-left: 6px solid #2196F3; padding: 15px; margin-bottom: 15px; border-radius: 5px;\">\n",
    "<h4>Your Task</h4>\n",
    "<ol>\n",
    "    <li><strong>Use the defined <code>QuotedTrade</code> class.</strong></li>\n",
    "    <li>Inside the loop, create <code>QuotedTrade</code> objects with the correct Bid and Offer Price.</li>"
   ]
  },
  {
   "cell_type": "code",
   "execution_count": null,
   "metadata": {
    "deletable": false,
    "editable": false,
    "nbgrader": {
     "cell_type": "code",
     "checksum": "6920e8e4bc3595ebe343fe659cc9cced",
     "grade": false,
     "grade_id": "cell-72c52dc77d98b645",
     "locked": true,
     "schema_version": 3,
     "solution": false,
     "task": false
    }
   },
   "outputs": [],
   "source": [
    "class QuotedTrade:\n",
    "    def __init__(self, ticker, trade_volume, ref_price, bid_price, offer_price,\n",
    "                 date):\n",
    "        self.ticker = ticker\n",
    "        self.trade_volume = trade_volume\n",
    "        self.ref_price = ref_price\n",
    "        self.bid_price = bid_price\n",
    "        self.offer_price = offer_price\n",
    "        self.date = date\n",
    "\n",
    "    def __str__(self):\n",
    "        return f'Trade Request for {self.ticker}, {self.trade_volume} shares @ {self.ref_price} on {self.date}. Bid Price: {self.bid_price} and Offer Price: {self.offer_price}'\n",
    "\n",
    "    def __repr__(self):\n",
    "        return f'QuotedTrade(ticker={self.ticker}, trade_volume={self.trade_volume}, ref_price={self.ref_price}, bid_price={self.bid_price}, offer_price={self.offer_price}, date={self.date})'"
   ]
  },
  {
   "cell_type": "markdown",
   "metadata": {
    "deletable": false,
    "editable": false,
    "nbgrader": {
     "cell_type": "markdown",
     "checksum": "ca9d3c83a5dc20884bcf1410ba44aea7",
     "grade": false,
     "grade_id": "cell-b8279455f9c02fa9",
     "locked": true,
     "schema_version": 3,
     "solution": false,
     "task": false
    }
   },
   "source": [
    "<div style=\"background-color: #FFF3CD; border-left: 6px solid #FFC107; padding: 15px; margin-bottom: 15px; border-radius: 5px;\">\n",
    "    <h4>Key Calculation: Bid & Offer Prices</h4>\n",
    "    <p>You must calculate the <code>bid_price</code> and <code>offer_price</code>. These should be set based on a 2% spread around the <code>ref_price</code>.</p>\n",
    "</div>"
   ]
  },
  {
   "cell_type": "code",
   "execution_count": null,
   "metadata": {
    "deletable": false,
    "editable": false,
    "nbgrader": {
     "cell_type": "code",
     "checksum": "890fd3af76a0967109edaeffe147344f",
     "grade": false,
     "grade_id": "cell-e65e21327f1e8616",
     "locked": true,
     "schema_version": 3,
     "solution": false,
     "task": false
    }
   },
   "outputs": [],
   "source": [
    "quoted_trades = []"
   ]
  },
  {
   "cell_type": "code",
   "execution_count": null,
   "metadata": {
    "deletable": false,
    "nbgrader": {
     "cell_type": "code",
     "checksum": "5b6d8404478d6c51b006585a39f88442",
     "grade": false,
     "grade_id": "cell-d5d31114b6fa1780",
     "locked": false,
     "schema_version": 3,
     "solution": true,
     "task": false
    }
   },
   "outputs": [],
   "source": [
    "# TASK C: Create QuotedTrade objects with 2% spread pricing\n",
    "# Replace the ____ with your answers\n",
    "\n",
    "for matched in request_with_prices:\n",
    "    request, ref_price = matched\n",
    "    ticker, date, volume = request\n",
    "    \n",
    "    # Calculate prices using the 2% spread formula\n",
    "    bid_price = ref_price * (1 - 0.02)\n",
    "    offer_price = ref_price * (1 + 0.02)\n",
    "\n",
    "    # Create the trade object\n",
    "    trade = QuotedTrade(ticker, trade_volume, ref_price, bid_price, offer_price, date)\n",
    "    quoted_trades.append(trade)"
   ]
  },
  {
   "cell_type": "markdown",
   "metadata": {
    "deletable": false,
    "editable": false,
    "nbgrader": {
     "cell_type": "markdown",
     "checksum": "eaaec149dccc1c194ee38abaab5de35e",
     "grade": false,
     "grade_id": "cell-a349fae73dcb9fbd",
     "locked": true,
     "schema_version": 3,
     "solution": false,
     "task": false
    }
   },
   "source": [
    "<div style=\"background-color: #D4EDDA; border-left: 6px solid #28A745; padding: 15px; margin-bottom: 15px; border-radius: 5px;\">\n",
    "    <h4>Output Check</h4>\n",
    "    <p>Run the cell below to display your final <code>quoted_trades</code> list.</p>\n",
    "    <p>You should see a list containing ten <code>QuotedTrade</code> objects, confirming that your class and loop worked correctly.</p>\n",
    "</div>"
   ]
  },
  {
   "cell_type": "code",
   "execution_count": null,
   "metadata": {
    "deletable": false,
    "editable": false,
    "nbgrader": {
     "cell_type": "code",
     "checksum": "45766d50c275e787993258e3070e6ebe",
     "grade": false,
     "grade_id": "cell-baa66e2e7ded583d",
     "locked": true,
     "schema_version": 3,
     "solution": false,
     "task": false
    }
   },
   "outputs": [
    {
     "name": "stdout",
     "output_type": "stream",
     "text": [
      "[QuotedTrade(ticker=FB, trade_volume=3010, ref_price=194.44, bid_price=190.5512, offer_price=198.3288, date=0), QuotedTrade(ticker=AAPL, trade_volume=6929, ref_price=74.63, bid_price=73.1374, offer_price=76.12259999999999, date=10000), QuotedTrade(ticker=FB, trade_volume=7015, ref_price=195.75, bid_price=191.835, offer_price=199.665, date=30000), QuotedTrade(ticker=FB, trade_volume=4910, ref_price=193.3, bid_price=189.434, offer_price=197.16600000000003, date=70000), QuotedTrade(ticker=AAPL, trade_volume=5783, ref_price=73.13, bid_price=71.6674, offer_price=74.59259999999999, date=105000), QuotedTrade(ticker=AAPL, trade_volume=3280, ref_price=73.83, bid_price=72.3534, offer_price=75.3066, date=110000), QuotedTrade(ticker=FB, trade_volume=2465, ref_price=185.76, bid_price=182.04479999999998, offer_price=189.4752, date=115000), QuotedTrade(ticker=AAPL, trade_volume=656, ref_price=76.56, bid_price=75.0288, offer_price=78.0912, date=120000), QuotedTrade(ticker=FB, trade_volume=1948, ref_price=191.32, bid_price=187.4936, offer_price=195.1464, date=130000), QuotedTrade(ticker=FB, trade_volume=1386, ref_price=195.82, bid_price=191.90359999999998, offer_price=199.7364, date=150000)]\n"
     ]
    }
   ],
   "source": [
    "print(quoted_trades)"
   ]
  },
  {
   "cell_type": "markdown",
   "metadata": {
    "deletable": false,
    "editable": false,
    "nbgrader": {
     "cell_type": "markdown",
     "checksum": "aa31927a2574d4103f726aadbff69ebd",
     "grade": false,
     "grade_id": "cell-2ae071e75bb25318",
     "locked": true,
     "schema_version": 3,
     "solution": false,
     "task": false
    }
   },
   "source": [
    "<div style=\"background-color: #f8f9fa; border: 1px solid #dee2e6; padding: 15px; margin-bottom: 15px; border-radius: 5px;\">\n",
    "    <h4>For Grading Purposes Only</h4>\n",
    "    <p>You don't need to change anything in the cell below. It's used to check your work automatically. Please run it without making any changes.</p>\n",
    "</div>"
   ]
  },
  {
   "cell_type": "code",
   "execution_count": null,
   "metadata": {
    "deletable": false,
    "editable": false,
    "nbgrader": {
     "cell_type": "code",
     "checksum": "9324dc9f85637d34d0866ec347b55de0",
     "grade": true,
     "grade_id": "cell-106ce2201a6a2fbc",
     "locked": true,
     "points": 1,
     "schema_version": 3,
     "solution": false,
     "task": false
    }
   },
   "outputs": [],
   "source": [
    "# GRADING CELL"
   ]
  },
  {
   "cell_type": "markdown",
   "metadata": {
    "deletable": false,
    "editable": false,
    "nbgrader": {
     "cell_type": "markdown",
     "checksum": "282c01edb76446a88e5a227a1976f60c",
     "grade": false,
     "grade_id": "cell-3ec62f4d803fadfe",
     "locked": true,
     "schema_version": 3,
     "solution": false,
     "task": false
    }
   },
   "source": [
    "### **Task D: Get the Hedge Fund's Decision**\n",
    "\n",
    "This is the final step of the process. You will now send each of your `QuotedTrade` objects to the hedge fund client (represented by the `hf` object) to get their decision. The client will respond by telling you if they want to **Buy** from you, **Sell** to you, or **Refuse** the trade entirely.\n",
    "\n",
    "<div style=\"background-color: #F8F9F9; border: 1px solid #DEE2E6; padding: 15px; margin-bottom: 15px; border-radius: 5px;\">\n",
    "    <h4>Method Documentation: <code>hf.show()</code></h4>\n",
    "    <p>This function simulates sending your quote to the hedge fund for a decision.</p>\n",
    "    <hr style=\"border-top: 1px solid #E9ECEF; margin: 10px 0;\">\n",
    "    <p><b>Method:</b> <code>hf.show(trade)</code></p>\n",
    "    <p><b>Parameters:</b></p>\n",
    "    <ul><li><code>trade</code>: A single <code>QuotedTrade</code> object you created in the previous step.</li></ul>\n",
    "    <p><b>Returns:</b></p>\n",
    "    <ul><li>An <code>HfResponse</code> object. This object contains the fund's action ('Buy', 'Sell', or 'Refuse') and the final details of the trade.</li></ul>\n",
    "</div>\n",
    "\n",
    "<div style=\"background-color: #E7F3FE; border-left: 6px solid #2196F3; padding: 15px; margin-bottom: 15px; border-radius: 5px;\">\n",
    "<h4>Your Task</h4>\n",
    "<ol>\n",
    "    <li>Create an empty list called <code>hf_responses</code>.</li>\n",
    "    <li>Loop through your list of <code>quoted_trades</code> objects.</li>\n",
    "    <li>For each <code>QuotedTrade</code> object, pass it to the <code>hf.show()</code> method.</li>\n",
    "    <li>Append the resulting <code>HfResponse</code> object to your <code>hf_responses</code> list.</li>\n",
    "</ol>\n",
    "</div>"
   ]
  },
  {
   "cell_type": "code",
   "execution_count": null,
   "metadata": {
    "deletable": false,
    "editable": false,
    "nbgrader": {
     "cell_type": "code",
     "checksum": "e7b35539d334a925ba6fbf6e70831d0c",
     "grade": false,
     "grade_id": "cell-016d41309d106a52",
     "locked": true,
     "schema_version": 3,
     "solution": false,
     "task": false
    }
   },
   "outputs": [],
   "source": [
    "hf_responses = []"
   ]
  },
  {
   "cell_type": "code",
   "execution_count": null,
   "metadata": {
    "deletable": false,
    "nbgrader": {
     "cell_type": "code",
     "checksum": "3507d4d393e9810cb137a084b9596151",
     "grade": false,
     "grade_id": "cell-f6106fcbf78adf23",
     "locked": false,
     "schema_version": 3,
     "solution": true,
     "task": false
    }
   },
   "outputs": [],
   "source": [
    "# TASK D: Get hedge fund decisions for each trade\n",
    "# Replace the ____ with your answers\n",
    "\n",
    "for trade in quoted_trades:\n",
    "    response = hf.show(trade)\n",
    "    hf_responses.append(response)"
   ]
  },
  {
   "cell_type": "markdown",
   "metadata": {
    "deletable": false,
    "editable": false,
    "nbgrader": {
     "cell_type": "markdown",
     "checksum": "edaa83babde50728970a379b30522322",
     "grade": false,
     "grade_id": "cell-418c8973f359240a",
     "locked": true,
     "schema_version": 3,
     "solution": false,
     "task": false
    }
   },
   "source": [
    "<div style=\"background-color: #D4EDDA; border-left: 6px solid #28A745; padding: 15px; margin-bottom: 15px; border-radius: 5px;\">\n",
    "    <h4>Output Check</h4>\n",
    "    <p>Run the cell below to see the final <code>hf_responses</code> list.</p>\n",
    "    <p>This output shows the decision for each of your quotes, completing the market-making cycle.</p>\n",
    "</div>"
   ]
  },
  {
   "cell_type": "code",
   "execution_count": null,
   "metadata": {
    "deletable": false,
    "editable": false,
    "nbgrader": {
     "cell_type": "code",
     "checksum": "39e6419fbd1e20d3618ab289dc800160",
     "grade": false,
     "grade_id": "cell-445888e408bf1715",
     "locked": true,
     "schema_version": 3,
     "solution": false,
     "task": false
    }
   },
   "outputs": [
    {
     "name": "stdout",
     "output_type": "stream",
     "text": [
      "[HfResponse(ticker=FB, trade_volume=3010, trade_price=190.5512, hf_action=sell, ref_price=194.44, bid_price=190.5512, offer_price=198.3288, date=0), HfResponse(ticker=AAPL, trade_volume=6929, trade_price=73.1374, hf_action=sell, ref_price=74.63, bid_price=73.1374, offer_price=76.12259999999999, date=10000), HfResponse(ticker=FB, trade_volume=7015, trade_price=199.665, hf_action=buy, ref_price=195.75, bid_price=191.835, offer_price=199.665, date=30000), HfResponse(ticker=FB, trade_volume=4910, trade_price=197.16600000000003, hf_action=buy, ref_price=193.3, bid_price=189.434, offer_price=197.16600000000003, date=70000), HfResponse(ticker=AAPL, trade_volume=5783, trade_price=74.59259999999999, hf_action=buy, ref_price=73.13, bid_price=71.6674, offer_price=74.59259999999999, date=105000), HfResponse(ticker=AAPL, trade_volume=3280, trade_price=75.3066, hf_action=buy, ref_price=73.83, bid_price=72.3534, offer_price=75.3066, date=110000), HfResponse(ticker=FB, trade_volume=2465, trade_price=182.04479999999998, hf_action=sell, ref_price=185.76, bid_price=182.04479999999998, offer_price=189.4752, date=115000), HfResponse(ticker=AAPL, trade_volume=656, trade_price=75.0288, hf_action=sell, ref_price=76.56, bid_price=75.0288, offer_price=78.0912, date=120000), HfResponse(ticker=FB, trade_volume=1948, trade_price=195.1464, hf_action=buy, ref_price=191.32, bid_price=187.4936, offer_price=195.1464, date=130000), HfResponse(ticker=FB, trade_volume=1386, trade_price=191.90359999999998, hf_action=sell, ref_price=195.82, bid_price=191.90359999999998, offer_price=199.7364, date=150000)]\n"
     ]
    }
   ],
   "source": [
    "print(hf_responses)"
   ]
  },
  {
   "cell_type": "markdown",
   "metadata": {
    "deletable": false,
    "editable": false,
    "nbgrader": {
     "cell_type": "markdown",
     "checksum": "c3cc1a12e0588f7bd7b2cf091770f5d1",
     "grade": false,
     "grade_id": "cell-8b97d29e3d7a569d",
     "locked": true,
     "schema_version": 3,
     "solution": false,
     "task": false
    }
   },
   "source": [
    "<div style=\"background-color: #f8f9fa; border: 1px solid #dee2e6; padding: 15px; margin-bottom: 15px; border-radius: 5px;\">\n",
    "    <h4>For Grading Purposes Only</h4>\n",
    "    <p>You don't need to change anything in the cell below. It's used to check your work automatically and check for generative AI use. Please run it without making any changes.</p>\n",
    "</div>"
   ]
  },
  {
   "cell_type": "code",
   "execution_count": null,
   "metadata": {
    "deletable": false,
    "editable": false,
    "nbgrader": {
     "cell_type": "code",
     "checksum": "54370f4d2b4070b6f7c25052967676f2",
     "grade": true,
     "grade_id": "cell-e0e2f0e2c0c47ed2",
     "locked": true,
     "points": 1,
     "schema_version": 3,
     "solution": false,
     "task": false
    }
   },
   "outputs": [],
   "source": [
    "# GRADING CELL"
   ]
  },
  {
   "cell_type": "markdown",
   "metadata": {
    "deletable": false,
    "editable": false,
    "nbgrader": {
     "cell_type": "markdown",
     "checksum": "babada890da59efdcdbd23a4c03ca15f",
     "grade": false,
     "grade_id": "cell-0e50484308b8ffb1",
     "locked": true,
     "schema_version": 3,
     "solution": false,
     "task": false
    }
   },
   "source": [
    "### **Task E: Initialize the Market Maker**\n",
    "\n",
    "Now it's time to bring everything together. You will initialize the main `MarketMaker` class, which will act as the central controller for tracking your positions, quotes, and completed trades throughout the simulation.\n",
    "\n",
    "<div style=\"background-color: #F8F9F9; border: 1px solid #DEE2E6; padding: 15px; margin-bottom: 15px; border-radius: 5px;\">\n",
    "    <h4>The `MarketMaker` Object</h4>\n",
    "    <p>The `MarketMaker` object is the central controller for our simulation and is initialized with the following attributes to track all activity:</p>\n",
    "    <ul>\n",
    "        <li><code>current_positions</code>: A dictionary tracking the volume of each asset you currently hold.\n",
    "            <ul><li><em>Structure: <code>{ 'TICKER': position_object, ... }</code></em></li></ul>\n",
    "        </li>\n",
    "        <li><code>quoted_trades</code>: A list to store all the <code>QuotedTrade</code> objects you create.</li>\n",
    "        <li><code>completed_trades</code>: A list to store all trades that clients have accepted (both buys and sells).</li>\n",
    "        <li><code>ETF_positions</code>: A list used specifically to track your ETF trades.</li>\n",
    "    </ul>\n",
    "</div>\n",
    "\n",
    "<div style=\"background-color: #E7F3FE; border-left: 6px solid #2196F3; padding: 15px; margin-bottom: 15px; border-radius: 5px;\">\n",
    "    <h4>Your Task: Initialize the Object</h4>\n",
    "    <p>Run the code cell below to create your instance of the <code>MarketMaker</code> class. This will make the <code>market_maker</code> object available for the next steps.</p>\n",
    "</div>"
   ]
  },
  {
   "cell_type": "code",
   "execution_count": null,
   "metadata": {
    "deletable": false,
    "editable": false,
    "nbgrader": {
     "cell_type": "code",
     "checksum": "a44920a859432a682aa46e52a28ac36e",
     "grade": false,
     "grade_id": "cell-e594040914e04f9c",
     "locked": true,
     "schema_version": 3,
     "solution": false,
     "task": false
    }
   },
   "outputs": [],
   "source": [
    "mm = MarketMaker.mm()"
   ]
  },
  {
   "cell_type": "markdown",
   "metadata": {
    "deletable": false,
    "editable": false,
    "nbgrader": {
     "cell_type": "markdown",
     "checksum": "93d71d48d6ac53f0ceda6adb6c5ffff3",
     "grade": false,
     "grade_id": "cell-2eb48c71b1867f57",
     "locked": true,
     "schema_version": 3,
     "solution": false,
     "task": false
    }
   },
   "source": [
    "### **Task F: Log Your Quoted Trades**\n",
    "\n",
    "A crucial part of market making is keeping a detailed log of all activity. Your next task is to log every quote you've prepared by adding each one to your `market_maker` object.\n",
    "\n",
    "<div style=\"background-color: #F8F9F9; border: 1px solid #DEE2E6; padding: 15px; margin-bottom: 15px; border-radius: 5px;\">\n",
    "    <h4>Method: <code>market_maker.add_quoted_trade()</code></h4>\n",
    "    <p>This method adds a single <code>QuotedTrade</code> object to the market maker's internal log of quoted trades.</p>\n",
    "    <hr style=\"border-top: 1px solid #E9ECEF; margin: 10px 0;\">\n",
    "    <p><b>Parameters:</b></p>\n",
    "    <ul><li><code>trade</code>: A single <code>QuotedTrade</code> object.</li></ul>\n",
    "    <p><b>Returns:</b></p>\n",
    "    <ul><li>A confirmation message (String) indicating if the trade was added successfully.</li></ul>\n",
    "</div>\n",
    "\n",
    "<div style=\"background-color: #E7F3FE; border-left: 6px solid #2196F3; padding: 15px; margin-bottom: 15px; border-radius: 5px;\">\n",
    "<h4>Your Task</h4>\n",
    "<ol>\n",
    "    <li>Loop through the <code>quoted_trades</code> list you created earlier.</li>\n",
    "    <li>Inside the loop, call the <code>market_maker.add_quoted_trade()</code> method for each trade object to log it.</li>\n",
    "</ol>\n",
    "</div>"
   ]
  },
  {
   "cell_type": "code",
   "execution_count": null,
   "metadata": {
    "deletable": false,
    "nbgrader": {
     "cell_type": "code",
     "checksum": "1d2aa9fa4a50272d1c1d7c6867899098",
     "grade": false,
     "grade_id": "cell-cb05edf6a52feea0",
     "locked": false,
     "schema_version": 3,
     "solution": true,
     "task": false
    }
   },
   "outputs": [],
   "source": [
    "# TASK F: Log each quoted trade to the market maker\n",
    "# Replace the ____ with your answer\n",
    "\n",
    "for quote in quoted_trades:\n",
    "    mm.add_quoted_trade(quote)"
   ]
  },
  {
   "cell_type": "markdown",
   "metadata": {
    "deletable": false,
    "editable": false,
    "nbgrader": {
     "cell_type": "markdown",
     "checksum": "96ca2850deb8498617f5363530d9b0cc",
     "grade": false,
     "grade_id": "cell-eeb102c5e3ffdac1",
     "locked": true,
     "schema_version": 3,
     "solution": false,
     "task": false
    }
   },
   "source": [
    "<div style=\"background-color: #D4EDDA; border-left: 6px solid #28A745; padding: 15px; margin-bottom: 15px; border-radius: 5px;\">\n",
    "    <h4>Output Check</h4>\n",
    "    <p>Run the cell below to check the contents of the <code>market_maker.quoted_trades</code> list.</p>\n",
    "    <p>This confirms that all ten of your quoted trades have been successfully logged inside the market maker object.</p>\n",
    "</div>"
   ]
  },
  {
   "cell_type": "code",
   "execution_count": null,
   "metadata": {
    "deletable": false,
    "editable": false,
    "nbgrader": {
     "cell_type": "code",
     "checksum": "a271d2500aa5a1d41fca48b20a57ab0b",
     "grade": false,
     "grade_id": "cell-3f5209199c32b9fa",
     "locked": true,
     "schema_version": 3,
     "solution": false,
     "task": false
    }
   },
   "outputs": [
    {
     "name": "stdout",
     "output_type": "stream",
     "text": [
      "[QuotedTrade(ticker=FB, trade_volume=3010, ref_price=194.44, bid_price=190.5512, offer_price=198.3288, date=0), QuotedTrade(ticker=AAPL, trade_volume=6929, ref_price=74.63, bid_price=73.1374, offer_price=76.12259999999999, date=10000), QuotedTrade(ticker=FB, trade_volume=7015, ref_price=195.75, bid_price=191.835, offer_price=199.665, date=30000), QuotedTrade(ticker=FB, trade_volume=4910, ref_price=193.3, bid_price=189.434, offer_price=197.16600000000003, date=70000), QuotedTrade(ticker=AAPL, trade_volume=5783, ref_price=73.13, bid_price=71.6674, offer_price=74.59259999999999, date=105000), QuotedTrade(ticker=AAPL, trade_volume=3280, ref_price=73.83, bid_price=72.3534, offer_price=75.3066, date=110000), QuotedTrade(ticker=FB, trade_volume=2465, ref_price=185.76, bid_price=182.04479999999998, offer_price=189.4752, date=115000), QuotedTrade(ticker=AAPL, trade_volume=656, ref_price=76.56, bid_price=75.0288, offer_price=78.0912, date=120000), QuotedTrade(ticker=FB, trade_volume=1948, ref_price=191.32, bid_price=187.4936, offer_price=195.1464, date=130000), QuotedTrade(ticker=FB, trade_volume=1386, ref_price=195.82, bid_price=191.90359999999998, offer_price=199.7364, date=150000)]\n"
     ]
    }
   ],
   "source": [
    "print(mm.quoted_trades)"
   ]
  },
  {
   "cell_type": "markdown",
   "metadata": {
    "deletable": false,
    "editable": false,
    "nbgrader": {
     "cell_type": "markdown",
     "checksum": "222a2cd599f20fb17e72908a52b9aa31",
     "grade": false,
     "grade_id": "cell-ead8b967d22ecc43",
     "locked": true,
     "schema_version": 3,
     "solution": false,
     "task": false
    }
   },
   "source": [
    "### **Task G: Create a `CompletedTrade` Class**\n",
    "\n",
    "When a hedge fund accepts one of your quotes, the trade is considered \"completed.\" To keep a clean record of your successful transactions, you will create a new `CompletedTrade` class.\n",
    "\n",
    "This class will act as a blueprint for logging every trade that actually gets executed.\n",
    "\n",
    "<div style=\"background-color: #F6DDDB; border-left: 6px solid #CE443B; padding: 15px; margin-bottom: 15px; border-radius: 5px;\">\n",
    "    <h4>Class Blueprint: `CompletedTrade`</h4>\n",
    "    <p>Each object made from this class will represent a single successful trade and must contain the following attributes:</p>\n",
    "    <ul>\n",
    "        <li><code>ticker</code>: The asset's name (String)</li>\n",
    "        <li><code>trade_volume</code>: The number of shares traded (Integer)</li>\n",
    "        <li><code>trade_price</code>: The final price the trade was executed at (Float)</li>\n",
    "        <li><code>mm_action</code>: The market maker's side of the trade ('Buy' or 'Sell') (String)</li>\n",
    "        <li><code>ref_price</code>: The original reference price (Float)</li>\n",
    "        <li><code>bid_price</code>: The original bid price you quoted (Float)</li>\n",
    "        <li><code>offer_price</code>: The original offer price you quoted (Float)</li>\n",
    "        <li><code>date</code>: The timestamp of the request (Integer)</li>\n",
    "    </ul>\n",
    "</div>\n",
    "\n",
    "<div style=\"background-color: #E7F3FE; border-left: 6px solid #2196F3; padding: 15px; margin-bottom: 15px; border-radius: 5px;\">\n",
    "<h4>Your Task</h4>\n",
    "<ol>\n",
    "    <li><strong>Define the <code>CompletedTrade</code> class.</strong></li>\n",
    "    <li>Inside the class, create an <code>__init__</code> method.</li>\n",
    "    <li>The <code>__init__</code> method should accept all the necessary information from a hedge fund's response and set the attributes listed above.</li>\n",
    "</ol>\n",
    "</div>"
   ]
  },
  {
   "cell_type": "code",
   "execution_count": null,
   "metadata": {
    "deletable": false,
    "nbgrader": {
     "cell_type": "code",
     "checksum": "2f8f9c0af111f791b96b8dd726ff488c",
     "grade": false,
     "grade_id": "cell-fb5a051969912f63",
     "locked": false,
     "schema_version": 3,
     "solution": true,
     "task": false
    }
   },
   "outputs": [],
   "source": [
    "# TASK G: Complete the CompletedTrade class by setting all attributes\n",
    "# Replace each ____ with the corresponding parameter name\n",
    "\n",
    "class CompletedTrade:\n",
    "    def __init__(self, ticker, trade_volume, trade_price, mm_action, ref_price, bid_price, offer_price, date):\n",
    "        self.ticker = ticker\n",
    "        self.trade_volume = trade_volume\n",
    "        self.trade_price = trade_price\n",
    "        self.mm_action = mm_action\n",
    "        self.ref_price = ref_price\n",
    "        self.bid_price = bid_price\n",
    "        self.offer_price = offer_price\n",
    "        self.date = date"
   ]
  },
  {
   "cell_type": "markdown",
   "metadata": {
    "deletable": false,
    "editable": false,
    "nbgrader": {
     "cell_type": "markdown",
     "checksum": "076d9939e2607653ce15c0539153fb9e",
     "grade": false,
     "grade_id": "cell-aec07b65343676b6",
     "locked": true,
     "schema_version": 3,
     "solution": false,
     "task": false
    }
   },
   "source": [
    "### **Log Completed Trades & Update Positions**\n",
    "\n",
    "Now that you have the hedge fund's decisions, it's time to update your records. You'll process the `hf_responses` list, ignoring any refused trades and logging the successful ones. This final step will also update your inventory to reflect your new positions.\n",
    "\n",
    "<div style=\"background-color: #F8F9F9; border: 1px solid #DEE2E6; padding: 15px; margin-bottom: 15px; border-radius: 5px;\">\n",
    "    <h4>⚙️ Method: <code>market_maker.add_trade()</code></h4>\n",
    "    <p>This crucial method logs a completed trade to your history and automatically updates your current position in that asset.</p>\n",
    "    <hr style=\"border-top: 1px solid #E9ECEF; margin: 10px 0;\">\n",
    "    <p><b>Parameters:</b></p>\n",
    "    <ul><li><code>trade</code>: A single <code>CompletedTrade</code> object.</li></ul>\n",
    "    <p><b>Returns:</b></p>\n",
    "    <ul><li>A confirmation message (String) indicating if the trade was added successfully.</li></ul>\n",
    "</div>\n",
    "\n",
    "<div style=\"background-color: #FFF3CD; border-left: 6px solid #FFC107; padding: 15px; margin-bottom: 15px; border-radius: 5px;\">\n",
    "    <h4>⚠️ Important Logic</h4>\n",
    "    <p>You must only process responses where the trade was accepted. Check the <code>hf_action</code> attribute in each response:</p>\n",
    "    <ul>\n",
    "        <li>If the action is 'Buy' or 'Sell', you should log it.</li>\n",
    "        <li>If the action is 'Refuse', you should ignore it and move to the next response.</li>\n",
    "    </ul>\n",
    "</div>\n",
    "\n",
    "<div style=\"background-color: #E7F3FE; border-left: 6px solid #2196F3; padding: 15px; margin-bottom: 15px; border-radius: 5px;\">\n",
    "<h4>Your Task</h4>\n",
    "<ol>\n",
    "    <li>Loop through the <code>hf_responses</code> list.</li>\n",
    "    <li>For each response, check if the <code>hf_action</code> is <b>not</b> 'Refuse'.</li>\n",
    "    <li>If the trade was accepted, create an instance of your <code>CompletedTrade</code> class using the data from the response object.</li>\n",
    "    <li>Pass this new <code>CompletedTrade</code> object to the <code>market_maker.add_trade()</code> method to log it.</li>\n",
    "</ol>\n",
    "</div>"
   ]
  },
  {
   "cell_type": "code",
   "execution_count": null,
   "metadata": {
    "deletable": false,
    "nbgrader": {
     "cell_type": "code",
     "checksum": "71ded18b268ef6584b4ca2105174042a",
     "grade": false,
     "grade_id": "cell-c8f52b102a9edb6a",
     "locked": false,
     "schema_version": 3,
     "solution": true,
     "task": false
    }
   },
   "outputs": [],
   "source": [
    "# TASK H: Process responses and create completed trades\n",
    "# Complete the code by filling in the ____ and adding the elif section\n",
    "\n",
    "for response in hf_responses:\n",
    "    \n",
    "    if response.hf_action == \"buy\":\n",
    "        mm_action = \"sell\"\n",
    "        trade = CompletedTrade(\n",
    "            response.ticker, \n",
    "            response.trade_volume, \n",
    "            response.offer_price,  # Which price do they pay when buying?\n",
    "            mm_action, \n",
    "            response.ref_price, \n",
    "            response.bid_price, \n",
    "            response.offer_price, \n",
    "            response.date\n",
    "        )\n",
    "        mm.add_trade(response)\n",
    "        \n",
    "    elif response.hf_action == \"sell\":\n",
    "        mm_action = \"buy\"\n",
    "        # Create a similar CompletedTrade for when they sell to us\n",
    "        # What price do they receive when selling?\n",
    "        trade = CompletedTrade(\n",
    "            response.ticker, \n",
    "            response.trade_volume, \n",
    "            response.bid_price,  \n",
    "            mm_action, \n",
    "            response.ref_price, \n",
    "            response.bid_price, \n",
    "            response.offer_price, \n",
    "            response.date\n",
    "        )\n",
    "        mm.add_trade(response)\n",
    "        \n",
    "        \n",
    "        # Don't forget to add the trade to mm"
   ]
  },
  {
   "cell_type": "markdown",
   "metadata": {
    "deletable": false,
    "editable": false,
    "nbgrader": {
     "cell_type": "markdown",
     "checksum": "b631de449698a5a4fcd066ae79a57b17",
     "grade": false,
     "grade_id": "cell-4793642ce2718d65",
     "locked": true,
     "schema_version": 3,
     "solution": false,
     "task": false
    }
   },
   "source": [
    "<div style=\"background-color: #D4EDDA; border-left: 6px solid #28A745; padding: 15px; margin-bottom: 15px; border-radius: 5px;\">\n",
    "    <h4>Output Check</h4>\n",
    "    <p>Run the cell below to view the contents of your <code>market_maker.completed_trades</code> list.</p>\n",
    "    <p>This output confirms your final log, which should only contain the trades that were successfully executed ('Buy' or 'Sell').</p>\n",
    "</div>"
   ]
  },
  {
   "cell_type": "code",
   "execution_count": null,
   "metadata": {
    "deletable": false,
    "editable": false,
    "nbgrader": {
     "cell_type": "code",
     "checksum": "25f47ad3a3c2f662f0889e5ee635bcd2",
     "grade": false,
     "grade_id": "cell-ee1493e2a72fd768",
     "locked": true,
     "schema_version": 3,
     "solution": false,
     "task": false
    }
   },
   "outputs": [
    {
     "name": "stdout",
     "output_type": "stream",
     "text": [
      "[<__main__.CompletedTrade object at 0x7fbfff6c5610>, <__main__.CompletedTrade object at 0x7fbfff283b60>, <__main__.CompletedTrade object at 0x7fbfff378b90>, <__main__.CompletedTrade object at 0x7fbfff37a4e0>, <__main__.CompletedTrade object at 0x7fbfff37b4d0>, <__main__.CompletedTrade object at 0x7fbfff378ad0>, <__main__.CompletedTrade object at 0x7fbfff2552b0>, <__main__.CompletedTrade object at 0x7fbfff2551f0>, <__main__.CompletedTrade object at 0x7fbfff255700>, <__main__.CompletedTrade object at 0x7fbfff2559a0>]\n"
     ]
    }
   ],
   "source": [
    "print(mm.completed_trades)"
   ]
  },
  {
   "cell_type": "markdown",
   "metadata": {
    "deletable": false,
    "editable": false,
    "nbgrader": {
     "cell_type": "markdown",
     "checksum": "ab85e68b6fa0b41d670731f4078627a3",
     "grade": false,
     "grade_id": "cell-e8bf17230d0203d7",
     "locked": true,
     "schema_version": 3,
     "solution": false,
     "task": false
    }
   },
   "source": [
    "<div style=\"background-color: #f8f9fa; border: 1px solid #dee2e6; padding: 15px; margin-bottom: 15px; border-radius: 5px;\">\n",
    "    <h4>For Grading Purposes Only</h4>\n",
    "    <p>You don't need to change anything in the cell below. It's used to check your work automatically and check for generative AI use. Please run it without making any changes.</p>\n",
    "</div>"
   ]
  },
  {
   "cell_type": "code",
   "execution_count": null,
   "metadata": {
    "deletable": false,
    "editable": false,
    "nbgrader": {
     "cell_type": "code",
     "checksum": "282594aac79b3e4514b36df057b5d6c3",
     "grade": true,
     "grade_id": "cell-92ae5fee0027d4eb",
     "locked": true,
     "points": 1,
     "schema_version": 3,
     "solution": false,
     "task": false
    }
   },
   "outputs": [],
   "source": [
    "# GRADING CELL"
   ]
  },
  {
   "cell_type": "markdown",
   "metadata": {
    "deletable": false,
    "editable": false,
    "nbgrader": {
     "cell_type": "markdown",
     "checksum": "acb7dd84cc7f02273208e7ad9eed84a0",
     "grade": false,
     "grade_id": "cell-e1ce2acbe9d65639",
     "locked": true,
     "schema_version": 3,
     "solution": false,
     "task": false
    }
   },
   "source": [
    "### **Task I: Visualize Your AAPL Quotes**\n",
    "\n",
    "A key skill for any quant is the ability to visualize data. You will now create a chart to see how your quoted bid and offer prices for **AAPL** behaved around the market's reference price over time.\n",
    "\n",
    "<div style=\"background-color: #FFF3CD; border-left: 6px solid #FFC107; padding: 15px; margin-bottom: 15px; border-radius: 5px;\">\n",
    "    <h4>Chart Requirements</h4>\n",
    "    <p>Your final plot must meet the following criteria:</p>\n",
    "    <ul>\n",
    "        <li><strong>Library:</strong> Use the <code>matplotlib</code> library.</li>\n",
    "        <li><strong>Data:</strong> Only include trades for the ticker <strong>'AAPL'</strong>.</li>\n",
    "        <li><strong>X-axis:</strong> Date</li>\n",
    "        <li><strong>Y-axis:</strong> Bid Price, Offer Price, and Reference Price.</li>\n",
    "    </ul>\n",
    "</div>\n",
    "\n",
    "<div style=\"background-color: #E7F3FE; border-left: 6px solid #2196F3; padding: 15px; margin-bottom: 15px; border-radius: 5px;\">\n",
    "<h4>Your Task</h4>\n",
    "<ol>\n",
    "    <li><strong>Filter the Data:</strong> Create new lists to hold the <code>date</code>, <code>bid_price</code>, <code>offer_price</code>, and <code>ref_price</code> for <strong>AAPL trades only</strong>.</li>\n",
    "</ol>\n",
    "</div>"
   ]
  },
  {
   "cell_type": "code",
   "execution_count": null,
   "metadata": {
    "deletable": false,
    "nbgrader": {
     "cell_type": "code",
     "checksum": "f659f5d2abc3dcb646dd2f70d66f5d1c",
     "grade": false,
     "grade_id": "cell-ee63e401086f7686",
     "locked": false,
     "schema_version": 3,
     "solution": true,
     "task": false
    }
   },
   "outputs": [],
   "source": [
    "# TASK I Part 1: Filter AAPL trades from completed trades\n",
    "# Replace the ____ with your answers\n",
    "\n",
    "bid_data = []\n",
    "offer_data = []\n",
    "quote_dates = []\n",
    "\n",
    "for trade in mm.completed_trades:\n",
    "    if trade.ticker == \"AAPL\":\n",
    "        bid_data.append(trade.date)\n",
    "        offer_data.append(trade.bid_price)\n",
    "        quote_dates.append(trade.offer_price)"
   ]
  },
  {
   "cell_type": "markdown",
   "metadata": {
    "deletable": false,
    "editable": false,
    "nbgrader": {
     "cell_type": "markdown",
     "checksum": "4ce5148196536b164a6b614213cca7ee",
     "grade": false,
     "grade_id": "cell-8f76913a7c10dd85",
     "locked": true,
     "schema_version": 3,
     "solution": false,
     "task": false
    }
   },
   "source": [
    "<div style=\"background-color: #D4EDDA; border-left: 6px solid #28A745; padding: 15px; margin-bottom: 15px; border-radius: 5px;\">\n",
    "    <h4>Output Check</h4>\n",
    "    <p>Run the cell below to print the lists you just created for your plot.</p>\n",
    "    <p>Before plotting, it's crucial to confirm that all lists have the <b>same length</b>. If they do, your data is ready for visualization!</p>\n",
    "</div>"
   ]
  },
  {
   "cell_type": "code",
   "execution_count": null,
   "metadata": {
    "deletable": false,
    "editable": false,
    "nbgrader": {
     "cell_type": "code",
     "checksum": "818551955dceb53a4364a42c34a43a70",
     "grade": false,
     "grade_id": "cell-35bfc92204cc0982",
     "locked": true,
     "schema_version": 3,
     "solution": false,
     "task": false
    }
   },
   "outputs": [
    {
     "name": "stdout",
     "output_type": "stream",
     "text": [
      "bid_data: [73.1374, 71.6674, 72.3534, 75.0288]\n",
      "offer_data: [76.12259999999999, 74.59259999999999, 75.3066, 78.0912]\n",
      "quote_dates: [10000, 105000, 110000, 120000]\n"
     ]
    }
   ],
   "source": [
    "print(\"bid_data:\", bid_data)\n",
    "print(\"offer_data:\", offer_data)\n",
    "print(\"quote_dates:\", quote_dates)"
   ]
  },
  {
   "cell_type": "markdown",
   "metadata": {
    "deletable": false,
    "editable": false,
    "nbgrader": {
     "cell_type": "markdown",
     "checksum": "209e9d0bd4b3a1d291182da9da764e3f",
     "grade": false,
     "grade_id": "cell-811ecb8839822f75",
     "locked": true,
     "schema_version": 3,
     "solution": false,
     "task": false
    }
   },
   "source": [
    "The `quote_dates`, `bid_data`, and `offer_data` lists are now ready.\n",
    "\n",
    "<div style=\"background-color: #E7F3FE; border-left: 6px solid #2196F3; padding: 15px; margin-bottom: 15px; border-radius: 5px;\">\n",
    "    <h4>Your Task</h4>\n",
    "    <p>The last piece of data you need for your chart is the reference price for each of your AAPL quotes.</p>\n",
    "    <ol>\n",
    "        <li>Create a new empty list called <code>ref_price_data</code>.</li>\n",
    "        <li>You will need to find the reference price that corresponds to each date in your <code>quote_dates</code> list.</li>\n",
    "        <li>Loop through your data source (e.g., <code>request_with_prices</code> or <code>market_maker.quoted_trades</code>) to find the <code>ref_price</code> for each AAPL quote and append it to your new list.</li>\n",
    "    </ol>\n",
    "</div>\n",
    "\n",
    "<div style=\"background-color: #F8F9F9; border: 1px solid #DEE2E6; padding: 10px; margin-top: 15px; border-radius: 5px; width:fit-content;\">\n",
    "💡 <b>Check your work:</b> The new <code>ref_price_data</code> list must have the same length as your other lists.\n",
    "</div>"
   ]
  },
  {
   "cell_type": "code",
   "execution_count": null,
   "metadata": {
    "deletable": false,
    "nbgrader": {
     "cell_type": "code",
     "checksum": "f7a241dde57306d8045febae16b251ec",
     "grade": false,
     "grade_id": "cell-2bd8af9c8806005a",
     "locked": false,
     "schema_version": 3,
     "solution": true,
     "task": false
    }
   },
   "outputs": [],
   "source": [
    "# TASK I Part 2: Get reference prices for AAPL on the dates we traded\n",
    "# Replace the ____ with your answers\n",
    "\n",
    "ref_data = []\n",
    "ref_dates = []\n",
    "\n",
    "for price in prices:\n",
    "    # Check if this price is for AAPL AND the date is one we have a quote for\n",
    "    if price[0] == \"AAPL\" and price[7] in quote_dates:\n",
    "        ref_data.append(prices[3])\n",
    "        ref_dates.append(price[7])"
   ]
  },
  {
   "cell_type": "markdown",
   "metadata": {
    "deletable": false,
    "editable": false,
    "nbgrader": {
     "cell_type": "markdown",
     "checksum": "0b10f60d4f5534954b5e1f9efcf15c48",
     "grade": false,
     "grade_id": "cell-21a63db85ddbd711",
     "locked": true,
     "schema_version": 3,
     "solution": false,
     "task": false
    }
   },
   "source": [
    "<div style=\"background-color: #D4EDDA; border-left: 6px solid #28A745; padding: 15px; margin-bottom: 15px; border-radius: 5px;\">\n",
    "    <h4>Output Check</h4>\n",
    "    <p>Run the cell below to verify your lists before plotting.</p>\n",
    "    <p>Confirm that your new <code>ref_price_data</code> list has the <b>same length</b> as the <code>quote_dates</code>, <code>bid_data</code>, and <code>offer_data</code> lists. If all lengths match, you are ready to create your graph!</p>\n",
    "</div>"
   ]
  },
  {
   "cell_type": "code",
   "execution_count": null,
   "metadata": {
    "deletable": false,
    "editable": false,
    "nbgrader": {
     "cell_type": "code",
     "checksum": "745ddc4e07977b3dba8c5b4839f74154",
     "grade": false,
     "grade_id": "cell-5beac75cf6de3b71",
     "locked": true,
     "schema_version": 3,
     "solution": false,
     "task": false
    }
   },
   "outputs": [
    {
     "name": "stdout",
     "output_type": "stream",
     "text": [
      "ref_data: [74.63, 73.13, 73.83, 76.56]\n",
      "ref_dates: [10000, 105000, 110000, 120000]\n"
     ]
    }
   ],
   "source": [
    "print(\"ref_data:\", ref_data)\n",
    "print(\"ref_dates:\", ref_dates)"
   ]
  },
  {
   "cell_type": "markdown",
   "metadata": {
    "deletable": false,
    "editable": false,
    "nbgrader": {
     "cell_type": "markdown",
     "checksum": "4d3d20625247f416f7512670cf92ffb6",
     "grade": false,
     "grade_id": "cell-b29e85da25279043",
     "locked": true,
     "schema_version": 3,
     "solution": false,
     "task": false
    }
   },
   "source": [
    "<div style=\"background-color: #E7F3FE; border-left: 6px solid #2196F3; padding: 15px; margin-bottom: 15px; border-radius: 5px;\">\n",
    "    <h4>Your Task</h4>\n",
    "    <p>All your data is now prepared. It's time to create the final visualization.</p>\n",
    "    <ol>\n",
    "        <li>Use <code>axes.plot()</code> to plot your <strong>bid</strong>, <strong>offer</strong>, and <strong>reference price</strong> data against your <strong>date</strong> data.</li>\n",
    "        <li>Customize your chart with a title, axis labels (e.g., 'Date', 'Price'), and a legend to make it clear and professional.</li>\n",
    "    </ol>\n",
    "</div>"
   ]
  },
  {
   "cell_type": "code",
   "execution_count": null,
   "metadata": {
    "deletable": false,
    "nbgrader": {
     "cell_type": "code",
     "checksum": "9c1d6e99f344ca64ba613bc2d85b7a1c",
     "grade": false,
     "grade_id": "cell-a497c155f275b2bc",
     "locked": false,
     "schema_version": 3,
     "solution": true,
     "task": false
    }
   },
   "outputs": [
    {
     "data": {
      "text/plain": [
       "Text(0, 0.5, 'Price')"
      ]
     },
     "execution_count": 32,
     "metadata": {},
     "output_type": "execute_result"
    },
    {
     "data": {
      "image/png": "[encoded data removed]",
      "text/plain": [
       "<Figure size 640x480 with 1 Axes>"
      ]
     },
     "metadata": {},
     "output_type": "display_data"
    }
   ],
   "source": [
    "# TASK I Part 3: Create the visualization\n",
    "# Now you need to create the plot yourself using what you've learned\n",
    "axes = plt.subplot()\n",
    "\n",
    "# Plot the three data series: bids, offers, and reference prices\n",
    "axes.set_title('AAPL: Bid, Offer, & Ref Price')\n",
    "axes.plot(ref_dates, ref_data, label = 'Price')\n",
    "\n",
    "axes.set_xlabel('Date', fontsize=12)\n",
    "axes.set_ylabel('Price', fontsize=12)\n",
    "\n",
    "plt.show()\n",
    "\n",
    "\n",
    "\n",
    "# Add labels to make your chart readable"
   ]
  },
  {
   "cell_type": "markdown",
   "metadata": {
    "deletable": false,
    "editable": false,
    "nbgrader": {
     "cell_type": "markdown",
     "checksum": "a535734cc9ea2a01d2d5a2ebc8581d0b",
     "grade": false,
     "grade_id": "cell-7851b7dd3470c340",
     "locked": true,
     "schema_version": 3,
     "solution": false,
     "task": false
    }
   },
   "source": [
    "<div style=\"background-color: #f8f9fa; border: 1px solid #dee2e6; padding: 15px; margin-bottom: 15px; border-radius: 5px;\">\n",
    "    <h4>For Grading Purposes Only</h4>\n",
    "    <p>You don't need to change anything in the cell below. It's used to check your work automatically and check for generative AI use. Please run it without making any changes.</p>\n",
    "</div>"
   ]
  },
  {
   "cell_type": "code",
   "execution_count": null,
   "metadata": {
    "deletable": false,
    "editable": false,
    "nbgrader": {
     "cell_type": "code",
     "checksum": "79fbcc607e0b2782287e12b1d934a19c",
     "grade": true,
     "grade_id": "cell-48a06ca8c2b89114",
     "locked": true,
     "points": 1,
     "schema_version": 3,
     "solution": false,
     "task": false
    }
   },
   "outputs": [],
   "source": [
    "# GRADING CELL"
   ]
  },
  {
   "cell_type": "markdown",
   "metadata": {
    "deletable": false,
    "editable": false,
    "nbgrader": {
     "cell_type": "markdown",
     "checksum": "178b163e562b703dcaec248713d1b25e",
     "grade": false,
     "grade_id": "cell-e6f6cd0513742a1f",
     "locked": true,
     "schema_version": 3,
     "solution": false,
     "task": false
    }
   },
   "source": [
    "## **Challenge 2: Price Skewing & Risk Management**\n",
    "\n",
    "In this challenge, you'll build on the foundation of Challenge 1 by adding a new layer of real-world complexity: **price skewing**. In practice, a market maker doesn't always quote prices symmetrically around a reference price. Instead, they adjust their quotes to manage the risk of their current inventory.\n",
    "\n",
    "<div style=\"background-color: #E7F3FE; border-left: 6px solid #2196F3; padding: 15px; margin-bottom: 15px; border-radius: 5px;\">\n",
    "    <h4>The Logic of Skewing</h4>\n",
    "    <p>The goal of skewing is to influence which side of your quote a client is more likely to take, helping you manage your risk.</p>\n",
    "    <ul>\n",
    "        <li>If you are <strong>long</strong> an asset (you own too much), you want to encourage clients to <strong>buy</strong> from you. You make your prices lower to attract buyers.</li>\n",
    "        <li>If you are <strong>short</strong> an asset (you owe it), you want to encourage clients to <strong>sell</strong> to you. You make your prices higher to attract sellers.</li>\n",
    "    </ul>\n",
    "</div>\n",
    "\n",
    "<div style=\"background-color: #F8F9F9; border: 1px solid #DEE2E6; padding: 15px; margin-bottom: 15px; border-radius: 5px;\">\n",
    "    <h4>For Example:</h4>\n",
    "    <p>If the reference price for Apple is <strong>\\$100</strong>:</p>\n",
    "     <ul>\n",
    "        <li><strong>When Long (you want to sell):</strong> Your quote might be <strong>Bid \\$95 – \\$101 Offer</strong>. Both prices are shifted down to make selling more likely.</li>\n",
    "        <li><strong>When Short (you want to buy):</strong> Your quote might be <strong>Bid \\$99 – \\$105 Offer</strong>. Both prices are shifted up to make buying more likely.</li>\n",
    "    </ul>\n",
    "</div>\n",
    "\n",
    "Let's add this layer of complexity to our code. First, we'll import the necessary packages."
   ]
  },
  {
   "cell_type": "code",
   "execution_count": null,
   "metadata": {
    "deletable": false,
    "editable": false,
    "nbgrader": {
     "cell_type": "code",
     "checksum": "3e44fa86a8c94b6dc07ce687431b4fd8",
     "grade": false,
     "grade_id": "cell-4a7a0335193cf40g",
     "locked": true,
     "schema_version": 3,
     "solution": false,
     "task": false
    }
   },
   "outputs": [],
   "source": [
    "# The code in this cell is used to import the packages to be used throughout this notebook.\n",
    "# The following are private packages available only during this simulation:\n",
    "from AmplifyQuantTrading import Data\n",
    "from AmplifyQuantTrading import Exchange\n",
    "from AmplifyQuantTrading import MarketMaker\n",
    "from AmplifyQuantTrading import HedgeFund as hf\n",
    "# The following are publicly available packages:\n",
    "from matplotlib import pyplot as plt\n",
    "from pandas import *"
   ]
  },
  {
   "cell_type": "code",
   "execution_count": null,
   "metadata": {
    "deletable": false,
    "editable": false,
    "nbgrader": {
     "cell_type": "code",
     "checksum": "5a2e189f965728d8c9cb13c7bd7cff8e",
     "grade": true,
     "grade_id": "cell-02b2e2768f217103",
     "locked": true,
     "points": 0,
     "schema_version": 3,
     "solution": false,
     "task": false
    }
   },
   "outputs": [],
   "source": [
    "# HIDDEN PARAMS BOX"
   ]
  },
  {
   "cell_type": "markdown",
   "metadata": {
    "deletable": false,
    "editable": false,
    "nbgrader": {
     "cell_type": "markdown",
     "checksum": "47871c23f131360ae5376d6773db578f",
     "grade": false,
     "grade_id": "cell-6df383c38556f758",
     "locked": true,
     "schema_version": 3,
     "solution": false,
     "task": false
    }
   },
   "source": [
    "## Initial Setup of Classes\n",
    "<hr>\n",
    "\n",
    "Before we begin, let's define the core data structures we'll use to represent our trades.\n",
    "\n",
    "<div style=\"background-color: #F8F9F9; border: 1px solid #DEE2E6; padding: 15px; margin-bottom: 15px; border-radius: 5px;\">\n",
    "    <h4>Class Blueprint: `QuotedTrade`</h4>\n",
    "    <p>This class acts as a container for every quote you send to a client. It must have the following attributes:</p>\n",
    "    <ul>\n",
    "        <li><code>ticker</code>: String</li>\n",
    "        <li><code>trade_volume</code>: Integer</li>\n",
    "        <li><code>ref_price</code>: Float</li>\n",
    "        <li><code>bid_price</code>: Float</li>\n",
    "        <li><code>offer_price</code>: Float</li>\n",
    "        <li><code>date</code>: Integer</li>\n",
    "    </ul>\n",
    "</div>\n",
    "\n",
    "<div style=\"background-color: #F8F9F9; border: 1px solid #DEE2E6; padding: 15px; margin-bottom: 15px; border-radius: 5px;\">\n",
    "    <h4>Class Blueprint: `CompletedTrade`</h4>\n",
    "    <p>This class is used to log the details of a successful trade after a client accepts your quote. It must have the following attributes:</p>\n",
    "    <ul>\n",
    "        <li><code>ticker</code>: String</li>\n",
    "        <li><code>trade_volume</code>: Integer</li>\n",
    "        <li><code>trade_price</code>: Float</li>\n",
    "        <li><code>mm_action</code>: String ('Buy' or 'Sell')</li>\n",
    "        <li><code>date</code>: Integer</li>\n",
    "    </ul>\n",
    "</div>\n",
    "\n",
    "<div style=\"background-color: #E7F3FE; border-left: 6px solid #2196F3; padding: 15px; margin-bottom: 15px; border-radius: 5px;\">\n",
    "<h4>Your Task</h4>\n",
    "<p>In the code cell below, define both the <code>QuotedTrade</code> and <code>CompletedTrade</code> classes. Each class should have an <code>__init__</code> method that sets the attributes listed in its blueprint.</p>\n",
    "</div>"
   ]
  },
  {
   "cell_type": "code",
   "execution_count": null,
   "metadata": {
    "deletable": false,
    "editable": false,
    "nbgrader": {
     "cell_type": "code",
     "checksum": "170571999064ce7a144c469052834f33",
     "grade": false,
     "grade_id": "cell-9e4f3064b95b199a",
     "locked": true,
     "schema_version": 3,
     "solution": false,
     "task": false
    }
   },
   "outputs": [],
   "source": [
    "class QuotedTrade:\n",
    "    def __init__(self, ticker, trade_volume, ref_price, bid_price, offer_price, date):\n",
    "        self.ticker = ticker\n",
    "        self.trade_volume = trade_volume\n",
    "        self.ref_price = ref_price\n",
    "        self.bid_price = bid_price\n",
    "        self.offer_price = offer_price\n",
    "        self.date = date\n",
    "        \n",
    "class CompletedTrade:\n",
    "    def __init__(self, ticker, trade_volume, trade_price, mm_action, ref_price, bid_price, offer_price, date):\n",
    "        self.ticker = ticker\n",
    "        self.trade_volume = trade_volume\n",
    "        self.trade_price = trade_price\n",
    "        self.mm_action = mm_action\n",
    "        self.ref_price = ref_price\n",
    "        self.bid_price = bid_price\n",
    "        self.offer_price = offer_price\n",
    "        self.date = date "
   ]
  },
  {
   "cell_type": "markdown",
   "metadata": {
    "deletable": false,
    "editable": false,
    "nbgrader": {
     "cell_type": "markdown",
     "checksum": "11d532b1ba854591f3359e8cd877954c",
     "grade": false,
     "grade_id": "cell-a10b92c6347298d3",
     "locked": true,
     "schema_version": 3,
     "solution": false,
     "task": false
    }
   },
   "source": [
    "### **Challenge 2 - Task A: Implement a Risk-Based Skewing Algorithm**\n",
    "\n",
    "This task combines everything you've learned into a single, complete algorithm. You will process all incoming price requests, but this time, you'll skew your quotes based on your current inventory risk before sending them to the client and logging the results.\n",
    "\n",
    "<div style=\"background-color: #F8F9F9; border: 1px solid #DEE2E6; padding: 15px; margin-bottom: 15px; border-radius: 5px;\">\n",
    "    <h4>Key Functions for this Task</h4>\n",
    "    <p>You will need to use the following methods from your objects:</p>\n",
    "    <p><b>Market Maker (`market_maker`):</b></p>\n",
    "    <ul>\n",
    "        <li><code>.current_positions</code>: To check your inventory for a given ticker.</li>\n",
    "        <li><code>.add_quoted_trade()</code>: To log every quote you create.</li>\n",
    "        <li><code>.add_trade()</code>: To log every completed trade and update your positions.</li>\n",
    "    </ul>\n",
    "    <p><b>Hedge Fund (`hf`):</b></p>\n",
    "    <ul>\n",
    "        <li><code>.show()</code>: To send your quote to the client and get their response.</li>\n",
    "    </ul>\n",
    "</div>\n",
    "\n",
    "<div style=\"background-color: #FFF3CD; border-left: 6px solid #FFC107; padding: 15px; margin-bottom: 15px; border-radius: 5px;\">\n",
    "    <h4>Remember to Log Everything!</h4>\n",
    "    <p>A key part of risk management is maintaining a complete audit trail. For every request, you must log both the initial quote and the final completed trade (if it's not refused). Failure to do so will result in risk penalties.</p>\n",
    "</div>\n",
    "\n",
    "<div style=\"background-color: #E7F3FE; border-left: 6px solid #2196F3; padding: 15px; margin-bottom: 15px; border-radius: 5px;\">\n",
    "<h4>Your Task</h4>\n",
    "<p>Your goal is to create a single loop that processes every item in the <code>price_requests</code> list. For each request, you must perform the following steps in order:</p>\n",
    "<ol>\n",
    "    <li><strong>Check Your Risk:</strong> Before calculating a price, check your current position for that ticker in <code>market_maker.current_positions</code>.</li>\n",
    "    <li><strong>Calculate Skewed Prices:</strong> Based on your position (long, short, or neutral), calculate the skewed bid and offer prices.</li>\n",
    "    <li><strong>Create a Quote:</strong> Instantiate a <code>QuotedTrade</code> object with your skewed prices.</li>\n",
    "    <li><strong>Log the Quote:</strong> Add the new <code>QuotedTrade</code> object to your logs using <code>market_maker.add_quoted_trade()</code>.</li>\n",
    "    <li><strong>Show Quote to Client:</strong> Send your quote to the client using <code>hf.show()</code> to get their decision.</li>\n",
    "    <li><strong>Process the Response:</strong> Check the <code>HfResponse</code>. If the trade was <strong>not 'Refuse'd</strong>:\n",
    "        <ol type=\"a\" style=\"margin-left: 20px;\">\n",
    "            <li>Create an instance of your <code>CompletedTrade</code> class.</li>\n",
    "            <li>Log the successful transaction using <code>market_maker.add_trade()</code>.</li>\n",
    "        </ol>\n",
    "    </li>\n",
    "</ol>\n",
    "</div>"
   ]
  },
  {
   "cell_type": "code",
   "execution_count": null,
   "metadata": {
    "deletable": false,
    "editable": false,
    "nbgrader": {
     "cell_type": "code",
     "checksum": "36b614d75465c651f006f078a57aeb41",
     "grade": false,
     "grade_id": "cell-4cdb572ee805ed6e",
     "locked": true,
     "schema_version": 3,
     "solution": false,
     "task": false
    }
   },
   "outputs": [],
   "source": [
    "# The code below creates the MarketMaker Object\n",
    "mm = MarketMaker.mm()\n",
    "# The code below will assign the prices data series and price_requests data series to the two variables.\n",
    "prices = Data.get_price_series(\"PricestoFeedserverExtended\")\n",
    "price_requests = Data.get_price_requests(\"PriceRequeststoFeedserverExtended\")"
   ]
  },
  {
   "cell_type": "code",
   "execution_count": null,
   "metadata": {
    "deletable": false,
    "nbgrader": {
     "cell_type": "code",
     "checksum": "3f8eefbe83b13db38456d721c3183507",
     "grade": false,
     "grade_id": "cell-d54961d5b5548141",
     "locked": false,
     "schema_version": 3,
     "solution": true,
     "task": false
    }
   },
   "outputs": [],
   "source": [
    "# CHALLENGE 2 TASK A: Full risk-based market making algorithm\n",
    "# This is more independent - use the starter code as a guide\n",
    "\n",
    "for request in price_requests:\n",
    "    ticker, date, volume = request\n",
    "\n",
    "    # Step 1: Get your current position for this ticker\n",
    "    position = mm.current_positions.get(ticker).position_volume\n",
    "\n",
    "    # Step 2: Find the reference price (loop through prices to match ticker and date)\n",
    "    ref_price = None\n",
    "    for price in prices:\n",
    "        # Your matching logic here\n",
    "        pass\n",
    "\n",
    "    # Step 3: Calculate base bid and offer with 2% spread\n",
    "    \n",
    "\n",
    "    # Step 4: Apply skewing based on position\n",
    "    # If long (position > 0), shift prices down by 1%\n",
    "    # If short (position < 0), shift prices up by 1%\n",
    "    \n",
    "\n",
    "    # Step 5: Create QuotedTrade and log it\n",
    "\n",
    "\n",
    "    # Step 6: Show to hedge fund and get response\n",
    "\n",
    "\n",
    "    # Step 7: If not refused, create CompletedTrade and log it\n",
    "    # Remember: \"buy\" response means we sell (use offer_price)\n",
    "    #           \"sell\" response means we buy (use bid_price)"
   ]
  },
  {
   "cell_type": "code",
   "execution_count": null,
   "metadata": {
    "deletable": false,
    "editable": false,
    "nbgrader": {
     "cell_type": "code",
     "checksum": "e0b312313738ac4dc35d4d904f0799d5",
     "grade": true,
     "grade_id": "cell-7b49a3c2a6956eab",
     "locked": true,
     "points": 1,
     "schema_version": 3,
     "solution": false,
     "task": false
    }
   },
   "outputs": [],
   "source": [
    "# GRADING CELL"
   ]
  },
  {
   "cell_type": "markdown",
   "metadata": {
    "deletable": false,
    "editable": false,
    "nbgrader": {
     "cell_type": "markdown",
     "checksum": "ff1115e0eee0d47914833016efc26940",
     "grade": false,
     "grade_id": "cell-200fbeedcf2a5d71",
     "locked": true,
     "schema_version": 3,
     "solution": false,
     "task": false
    }
   },
   "source": [
    "## **Challenge 2 - Task B: Visualize Your Skewed Quotes**\n",
    "The final task is to visualize your new pricing logic. By plotting your skewed quotes, you can clearly see how your algorithm adjusted its prices based on its trading risk throughout the simulation.\n",
    "\n",
    "<div style=\"background-color: #FFF3CD; border-left: 6px solid #FFC107; padding: 15px; margin-bottom: 15px; border-radius: 5px;\">\n",
    "    <h4>Chart Requirements</h4>\n",
    "    <p>Your plot should show the relationship between your quotes and the market price for a single asset.</p>\n",
    "    <ul>\n",
    "        <li><strong>Ticker:</strong> Choose <strong>one ticker</strong> from your logs to visualize (e.g., 'AAPL').</li>\n",
    "        <li><strong>Data Source:</strong> Use the final <code>market_maker.quoted_trades</code> list.</li>\n",
    "        <li><strong>X-axis:</strong> Date</li>\n",
    "        <li><strong>Y-axis:</strong> Bid Price, Offer Price, and Reference Price.</li>\n",
    "    </ul>\n",
    "</div>\n",
    "\n",
    "<div style=\"background-color: #E7F3FE; border-left: 6px solid #2196F3; padding: 15px; margin-bottom: 15px; border-radius: 5px;\">\n",
    "<h4>Your Task</h4>\n",
    "<p>You can reuse most of your plotting code from Challenge 1. Follow these steps:</p>\n",
    "<ol>\n",
    "    <li><strong>Choose a Ticker:</strong> Pick one asset you traded to focus your analysis on.</li>\n",
    "    <li><strong>Filter the Data:</strong> Create new lists for dates and prices by looping through your <code>market_maker.quoted_trades</code> log and selecting only the data for your chosen ticker.</li>\n",
    "    <li><strong>Initialize and Plot:</strong> Use <code>plt.subplots()</code> to create your axes and <code>axes.plot()</code> to draw the three price series.</li>\n",
    "    <li><strong>Add Labels:</strong> Complete your chart with a title (mentioning the ticker), axis labels, and a legend to make it readable.</li>\n",
    "</ol>\n",
    "</div>"
   ]
  },
  {
   "cell_type": "code",
   "execution_count": null,
   "metadata": {
    "deletable": false,
    "nbgrader": {
     "cell_type": "code",
     "checksum": "116b950e8e42bbc289f7073f0b1b0a9d",
     "grade": false,
     "grade_id": "cell-94618ea7fe2d603b",
     "locked": false,
     "schema_version": 3,
     "solution": true,
     "task": false
    }
   },
   "outputs": [
    {
     "data": {
      "image/png": "[encoded data removed]",
      "text/plain": [
       "<Figure size 640x480 with 1 Axes>"
      ]
     },
     "metadata": {},
     "output_type": "display_data"
    }
   ],
   "source": [
    "# CHALLENGE 2 TASK B: Visualize skewed quotes\n",
    "# Apply what you learned in Task I, but now for quoted_trades instead of completed_trades\n",
    "\n",
    "bid_data = []\n",
    "offer_data = []\n",
    "ref_data = []\n",
    "quote_dates = []\n",
    "\n",
    "ticker = \"AAPL\"  # Choose your ticker\n",
    "\n",
    "# Loop through mm.quoted_trades and collect data for your chosen ticker\n",
    "\n",
    "\n",
    "\n",
    "\n",
    "\n",
    "# Create a plot with two subplots or a single plot with all three lines\n",
    "# Include title, labels, and legend"
   ]
  },
  {
   "cell_type": "markdown",
   "metadata": {
    "deletable": false,
    "editable": false,
    "nbgrader": {
     "cell_type": "markdown",
     "checksum": "d2102978f10447207f0fffaac622a1da",
     "grade": false,
     "grade_id": "cell-9d02e3a9d3423feg",
     "locked": true,
     "schema_version": 3,
     "solution": false,
     "task": false
    }
   },
   "source": [
    "## Beta Research & Hedging Strategy\n",
    "<hr>\n",
    "\n",
    "Welcome to the research section. In this part of the assessment, your goal is to calculate the **beta** of five individual stocks relative to a FAANG ETF. Beta is a fundamental measure of a stock's volatility in relation to the broader market. The values you calculate here will be essential for building an optimized hedging strategy in Challenge 3.\n",
    "\n",
    "<div style=\"background-color: #FFF3CD; border-left: 6px solid #FFC107; padding: 15px; margin-bottom: 15px; border-radius: 5px;\">\n",
    "    <h4>Understanding Beta (β)</h4>\n",
    "    <p>Beta tells you how much an asset's price is expected to move when the overall market moves.</p>\n",
    "    <ul>\n",
    "        <li>A beta of <strong>1</strong> means the stock tends to move in line with the market.</li>\n",
    "        <li>A beta <strong>greater than 1</strong> means the stock is more volatile than the market.</li>\n",
    "        <li>A beta <strong>less than 1</strong> means the stock is less volatile than the market.</li>\n",
    "    </ul>\n",
    "</div>\n",
    "\n",
    "<div style=\"background-color: #F8F9F9; border: 1px solid #DEE2E6; padding: 15px; margin-bottom: 15px; border-radius: 5px;\">\n",
    "    <h4>Formula for Beta</h4>\n",
    "    <p>To find the beta of a stock, you'll use the covariance of its returns with the market's returns, divided by the variance of the market's returns.</p>\n",
    "    <p>$$ \\beta_{stock} = \\frac{\\text{Cov}(R_{stock}, R_{market})}{\\text{Var}(R_{market})} $$</p>\n",
    "    <p>Where $R_{stock}$ represents the returns of the individual stock and $R_{market}$ represents the returns of the ETF.</p>\n",
    "</div>\n",
    "\n",
    "<div style=\"background-color: #E7F3FE; border-left: 6px solid #2196F3; padding: 15px; margin-bottom: 15px; border-radius: 5px;\">\n",
    "<h4>Your Task</h4>\n",
    "<p>Your objective is to process historical price data to calculate the daily returns for each of the five stocks and the FAANG ETF. You will then use these returns to calculate a beta value for each individual stock.</p>\n",
    "</div>\n",
    "\n",
    "To start, let's import the packages we will use in this notebook."
   ]
  },
  {
   "cell_type": "code",
   "execution_count": null,
   "metadata": {
    "deletable": false,
    "editable": false,
    "nbgrader": {
     "cell_type": "code",
     "checksum": "a7c705a164ae55518d8e2ddb1acf0fcc",
     "grade": false,
     "grade_id": "cell-98958cc3340740d8",
     "locked": true,
     "schema_version": 3,
     "solution": false,
     "task": false
    }
   },
   "outputs": [],
   "source": [
    "# The code in this cell is used to import the packages to be used throughout this notebook.\n",
    "# The following are private packages available only during this simulation:\n",
    "from AmplifyQuantTrading import Data\n",
    "# The following are publicly available packages:\n",
    "from matplotlib import pyplot as plt\n",
    "import pandas"
   ]
  },
  {
   "cell_type": "markdown",
   "metadata": {
    "deletable": false,
    "editable": false,
    "nbgrader": {
     "cell_type": "markdown",
     "checksum": "06716f8e80a55089cb3da60af978b6c5",
     "grade": false,
     "grade_id": "cell-c94e93a52ab7f9b3",
     "locked": true,
     "schema_version": 3,
     "solution": false,
     "task": false
    }
   },
   "source": [
    "### **How the FAANG ETF is Calculated**\n",
    "The FAANG ETF is an exchange-traded product composed of five equally-weighted stocks: Facebook, Amazon, Apple, Netflix, and Google.\n",
    "\n",
    "<div style=\"background-color: #F8F9F9; border: 1px solid #DEE2E6; padding: 15px; margin-bottom: 15px; border-radius: 5px;\">\n",
    "    <h4>Calculation Method</h4>\n",
    "    <ol>\n",
    "        <li><strong>Rebasing:</strong> At the start of the price series (t0), each of the 5 stock prices is rebased to a value of \\$100. This means the ETF's starting value is also \\$100.</li>\n",
    "        <li><strong>Daily Changes:</strong> On any subsequent day (t1), the value of each rebased stock component changes from \\$100 by the same percentage that the actual stock's price changed since the start (t0).</li>\n",
    "        <li><strong>Final ETF Value:</strong> The ETF's value on any given day is the simple average of the 5 rebased component prices for that day.</li>\n",
    "    </ol>\n",
    "</div>\n",
    "\n",
    "### **The Problem with a Simple Hedge**\n",
    "In the previous simulation, you hedged your exposure by taking an equal and opposite position in the ETF (e.g., selling \\\\$1m of the ETF when you were long \\\\$1m of a stock). This is called a **nominal hedge**.\n",
    "\n",
    "<div style=\"background-color: #FFF3CD; border-left: 6px solid #FFC107; padding: 15px; margin-bottom: 15px; border-radius: 5px;\">\n",
    "    <h4>The Volatility Mismatch</h4>\n",
    "    <p>A nominal hedge is inaccurate because individual stocks are often more or less volatile than the ETF itself. A 1% move in a single stock is not the same as a 1% move in the ETF.</p>\n",
    "    <p>To create a correct hedge, we must use <strong>Beta (β)</strong> to measure the relative volatility between each stock and the ETF.</p>\n",
    "</div>\n",
    "\n",
    "### **Research Task: Calculate Hedging Ratios**\n",
    "Your goal is to use historical price data to find the precise beta for each stock relative to the ETF. This beta value will be your correct hedging ratio for Challenge 3.\n",
    "\n",
    "<div style=\"background-color: #E7F3FE; border-left: 6px solid #2196F3; padding: 15px; margin-bottom: 15px; border-radius: 5px;\">\n",
    "<h4>Your Task</h4>\n",
    "<ol>\n",
    "    <li>Load the provided 6 months of price data.</li>\n",
    "    <li>Calculate the daily <strong>percentage returns</strong> for each of the 5 stocks and the FAANG ETF.</li>\n",
    "    <li>For each stock, calculate the <strong>covariance</strong> between its returns and the ETF's returns.</li>\n",
    "    <li>Calculate the <strong>variance</strong> of the ETF's returns.</li>\n",
    "    <li>Apply the beta formula ($$\\beta = \\frac{\\text{Covariance}}{\\text{Variance}}$$) to find the precise hedging ratio for each of the 5 stocks.</li>\n",
    "</ol>\n",
    "</div>"
   ]
  },
  {
   "cell_type": "code",
   "execution_count": null,
   "metadata": {
    "deletable": false,
    "editable": false,
    "nbgrader": {
     "cell_type": "code",
     "checksum": "2ecb61ea5a8e50cf4a8e2962cb2c5395",
     "grade": false,
     "grade_id": "cell-a4fdf442506c682b",
     "locked": true,
     "schema_version": 3,
     "solution": false,
     "task": false
    }
   },
   "outputs": [],
   "source": [
    "# The code in this cell assigns the Data.get_price_series(\"PricestoFeedserverEtfUpdate\") to the prices variable.\n",
    "prices = Data.get_price_series(\"PricestoFeedserverEtfUpdate\")"
   ]
  },
  {
   "cell_type": "code",
   "execution_count": null,
   "metadata": {
    "deletable": false,
    "editable": false,
    "nbgrader": {
     "cell_type": "code",
     "checksum": "88b39aec1b612f7ea74e538300806611",
     "grade": false,
     "grade_id": "cell-7270e939fe197bd0",
     "locked": true,
     "schema_version": 3,
     "solution": false,
     "task": false
    }
   },
   "outputs": [],
   "source": [
    "prices_FB = []\n",
    "prices_AAPL = []\n",
    "prices_AMZN = []\n",
    "prices_NFLX =[]\n",
    "prices_GOOGL = []\n",
    "prices_FAANG = []\n",
    "\n",
    "for price in prices:\n",
    "    if price[0] == \"AAPL\":\n",
    "        prices_AAPL.append(price)\n",
    "    elif price[0] == \"FB\":\n",
    "        prices_FB.append(price)\n",
    "    elif price[0] == \"GOOGL\":\n",
    "        prices_GOOGL.append(price)\n",
    "    elif price[0] == \"AMZN\":\n",
    "        prices_AMZN.append(price)\n",
    "    elif price[0] == \"NFLX\":\n",
    "        prices_NFLX.append(price)\n",
    "    elif price[0] == \"FAANG\":\n",
    "        prices_FAANG.append(price)\n",
    "        \n",
    "AAPL_change = pandas.DataFrame(prices_AAPL)[2].pct_change()[1:]\n",
    "FB_change = pandas.DataFrame(prices_FB)[2].pct_change()[1:]\n",
    "GOOGL_change = pandas.DataFrame(prices_GOOGL)[2].pct_change()[1:]\n",
    "AMZN_change = pandas.DataFrame(prices_AMZN)[2].pct_change()[1:]\n",
    "NFLX_change = pandas.DataFrame(prices_NFLX)[2].pct_change()[1:]\n",
    "FAANG_change = pandas.DataFrame(prices_FAANG)[2].pct_change()[1:]"
   ]
  },
  {
   "cell_type": "code",
   "execution_count": null,
   "metadata": {
    "deletable": false,
    "nbgrader": {
     "cell_type": "code",
     "checksum": "2eca2fbedb37d1fdbc2161ab614408c8",
     "grade": false,
     "grade_id": "cell-fc9704bf1de72de9",
     "locked": false,
     "schema_version": 3,
     "solution": true,
     "task": false
    }
   },
   "outputs": [
    {
     "name": "stdout",
     "output_type": "stream",
     "text": [
      "Beta of AAPL: 0.8649358977135809\n",
      "Beta of FB: 1.0320881265438906\n",
      "Beta of AMZN: 0.919466353949135\n",
      "Beta of NFLX: 0.9213258425391022\n",
      "Beta of GOOGL: 1.2686214971574004\n"
     ]
    }
   ],
   "source": [
    "# BETA RESEARCH TASK: Calculate beta for each stock\n",
    "# Write your code on the lines with = (no blanks to fill in)\n",
    "\n",
    "# The return series have been calculated: AAPL_change, FB_change, etc.\n",
    "\n",
    "# Step 1: Calculate covariance between each stock and FAANG ETF\n",
    "# Remember: series1.cov(series2) gives you the covariance\n",
    "covariance_AAPL = \n",
    "covariance_FB = \n",
    "covariance_AMZN = \n",
    "covariance_NFLX = \n",
    "covariance_GOOGL = \n",
    "\n",
    "# Step 2: Calculate variance of FAANG returns\n",
    "# Remember: series.var() gives you the variance\n",
    "variance_FAANG = \n",
    "\n",
    "# Step 3: Calculate beta = covariance / variance for each stock\n",
    "beta_AAPL = \n",
    "beta_FB = \n",
    "beta_AMZN = \n",
    "beta_NFLX = \n",
    "beta_GOOGL = \n",
    "\n",
    "print(\"Beta of AAPL:\", beta_AAPL)\n",
    "print(\"Beta of FB:\", beta_FB)\n",
    "print(\"Beta of AMZN:\", beta_AMZN)\n",
    "print(\"Beta of NFLX:\", beta_NFLX)\n",
    "print(\"Beta of GOOGL:\", beta_GOOGL)"
   ]
  },
  {
   "cell_type": "markdown",
   "metadata": {
    "deletable": false,
    "editable": false,
    "nbgrader": {
     "cell_type": "markdown",
     "checksum": "363c007bca1b86b8b295c5d91c663835",
     "grade": false,
     "grade_id": "cell-0b64c479a1c8b332",
     "locked": true,
     "schema_version": 3,
     "solution": false,
     "task": false
    }
   },
   "source": [
    "## **Challenge 3: Optimized ETF Hedging**\n",
    "Welcome to the final challenge. You will now upgrade your algorithm from Challenge 2 to perform a more sophisticated, **beta-adjusted hedge**. Instead of a simple $1-for-$1 hedge, you will use the beta values from your research to calculate the precise amount of ETF needed to offset your risk in each stock.\n",
    "\n",
    "<div style=\"background-color: #FFF3CD; border-left: 6px solid #FFC107; padding: 15px; margin-bottom: 15px; border-radius: 5px;\">\n",
    "    <h4>The Beta-Adjusted Hedge</h4>\n",
    "    <p>The core of this challenge is to use beta as your hedging ratio. The formula is simple:</p>\n",
    "    <p style=\"text-align:center; font-size:1.1em; font-family:monospace;\">\n",
    "    Hedge Amount = Equity Risk Amount × Beta\n",
    "    </p>\n",
    "    <p>For example, if you complete a trade that leaves you with a <strong>\\$1,000,000 long</strong> position in AAPL (which has a Beta of 0.833), your optimized hedge is to <strong>sell \\$833,000</strong> of the FAANG ETF.</p>\n",
    "</div>\n",
    "\n",
    "### **New Tools for Hedging**\n",
    "To execute your hedge, you will interact with a simulated exchange. This requires a new object and two new methods.\n",
    "\n",
    "<div style=\"background-color: #F8F9F9; border: 1px solid #DEE2E6; padding: 15px; margin-bottom: 15px; border-radius: 5px;\">\n",
    "    <h4>Class Blueprint: `ExchangeTrade`</h4>\n",
    "    <p>This object is a simple container used to send your ETF hedge order to the exchange.</p>\n",
    "    <ul>\n",
    "        <li><code>ticker</code>: String (e.g., 'FAANG')</li>\n",
    "        <li><code>trade_volume</code>: Integer</li>\n",
    "        <li><code>ref_price</code>: Float</li>\n",
    "        <li><code>action</code>: String ('Buy' or 'Sell')</li>\n",
    "        <li><code>date</code>: Integer</li>\n",
    "    </ul>\n",
    "</div>\n",
    "\n",
    "<div style=\"background-color: #F8F9F9; border: 1px solid #DEE2E6; padding: 15px; margin-bottom: 15px; border-radius: 5px;\">\n",
    "    <h4>⚙️ New Methods for Hedging</h4>\n",
    "    <p><b>1. Execute a Hedge Trade</b></p>\n",
    "    <ul><li><code>Exchange.execute(trade)</code>: Sends your <code>ExchangeTrade</code> object to the market and returns an <code>ExecutedTrade</code> object confirming the transaction.</li></ul>\n",
    "    <p><b>2. Log Your ETF Position</b></p>\n",
    "    <ul><li><code>market_maker.update_ETF_position(executed_trade)</code>: Logs the executed hedge trade to your market maker's internal records.</li></ul>\n",
    "</div>\n",
    "\n",
    "<div style=\"background-color: #E7F3FE; border-left: 6px solid #2196F3; padding: 15px; margin-bottom: 15px; border-radius: 5px;\">\n",
    "    <h4>Data Format: Pandas DataFrame</h4>\n",
    "    <p>For this section, all historical price data is stored in a <strong>Pandas DataFrame</strong>. This is a powerful, table-like structure that makes cleaning, analyzing, and performing calculations on time series data much more efficient.</p>\n",
    "</div>\n",
    "\n",
    "### **Challenge 3 - Task A: Implement the Full Hedging Loop**\n",
    "Your task is to modify your algorithm from Challenge 2 to include the beta-adjusted hedge after every completed trade.\n",
    "\n",
    "<div style=\"background-color: #E7F3FE; border-left: 6px solid #2196F3; padding: 15px; margin-bottom: 15px; border-radius: 5px;\">\n",
    "<h4>Your Task</h4>\n",
    "<p>Copy your code from Challenge 2. Inside your main loop that processes each price request, add the new hedging steps after a trade is successfully completed.</p>\n",
    "<ol>\n",
    "    <li>Process a client request (check risk, skew prices, create and log quote, show to client).</li>\n",
    "    <li>Check the client's response.</li>\n",
    "    <li><strong>If the trade is NOT refused:</strong>\n",
    "        <ol type=\"a\" style=\"margin-left: 20px;\">\n",
    "            <li>Log the completed trade using <code>market_maker.add_trade()</code>.</li>\n",
    "            <li><strong>--- Start New Hedging Logic ---</strong></li>\n",
    "            <li>Calculate the required ETF hedge amount using the stock's <strong>Beta</strong>.</li>\n",
    "            <li>Determine the hedge direction (if you bought the stock, you must sell the ETF, and vice-versa).</li>\n",
    "            <li>Create an <code>ExchangeTrade</code> object for your ETF hedge.</li>\n",
    "            <li>Execute the hedge using <code>Exchange.execute()</code>.</li>\n",
    "            <li>Log the result of your hedge using <code>market_maker.update_ETF_position()</code>.</li>\n",
    "        </ol>\n",
    "    </li>\n",
    "</ol>\n",
    "</div>"
   ]
  },
  {
   "cell_type": "code",
   "execution_count": null,
   "metadata": {
    "deletable": false,
    "editable": false,
    "nbgrader": {
     "cell_type": "code",
     "checksum": "43355caaa8fff066279b63993c9e210a",
     "grade": false,
     "grade_id": "cell-2547dbbb1c77936a",
     "locked": true,
     "schema_version": 3,
     "solution": false,
     "task": false
    }
   },
   "outputs": [],
   "source": [
    "# The code below creates the MarketMaker Object\n",
    "mm = MarketMaker.mm()\n",
    "prices = Data.get_price_series(\"PricestoFeedserverEtfUpdate\", True)\n",
    "price_requests = Data.get_price_requests(\"PriceRequeststoFeedserverExtended\")"
   ]
  },
  {
   "cell_type": "code",
   "execution_count": null,
   "metadata": {
    "deletable": false,
    "editable": false,
    "nbgrader": {
     "cell_type": "code",
     "checksum": "5c6be4646ef517ed212d55b4ca457848",
     "grade": false,
     "grade_id": "cell-5740e0394b19b88d",
     "locked": true,
     "schema_version": 3,
     "solution": false,
     "task": false
    }
   },
   "outputs": [],
   "source": [
    "class ExchangeTrade:\n",
    "    def __init__(self, ticker, trade_volume, ref_price, action, date):\n",
    "        self.ticker = ticker\n",
    "        self.trade_volume = trade_volume\n",
    "        self.ref_price = ref_price\n",
    "        self.action = action\n",
    "        self.date = date"
   ]
  },
  {
   "cell_type": "code",
   "execution_count": null,
   "metadata": {
    "deletable": false,
    "nbgrader": {
     "cell_type": "code",
     "checksum": "8c192809f462313415edf674a9a75dfb",
     "grade": false,
     "grade_id": "cell-a4a558b2b5194642",
     "locked": false,
     "schema_version": 3,
     "solution": true,
     "task": false
    }
   },
   "outputs": [],
   "source": [
    "# CHALLENGE 3 TASK A: Full hedging algorithm with beta-adjusted ETF trades\n",
    "# This is the most advanced task - combine everything you've learned\n",
    "\n",
    "betas = {\n",
    "    \"AAPL\": 0.833,\n",
    "    \"FB\": 1.167,\n",
    "    \"AMZN\": 1.083,\n",
    "    \"NFLX\": 1.250,\n",
    "    \"GOOGL\": 0.917\n",
    "}\n",
    "\n",
    "for request in price_requests:\n",
    "    ticker, date, volume = request\n",
    "    \n",
    "    # Find reference price for this ticker and date\n",
    "    ref_price = None\n",
    "    for price in prices:\n",
    "        # Your code here\n",
    "        pass\n",
    "    \n",
    "    if ref_price is None:\n",
    "        continue\n",
    "    \n",
    "    # Calculate bid and offer with 2% spread\n",
    "    \n",
    "\n",
    "    # Create QuotedTrade, log it, and show to hedge fund\n",
    "    \n",
    "\n",
    "    # Process response - skip if refused\n",
    "    \n",
    "\n",
    "    # If accepted, create and log CompletedTrade\n",
    "    \n",
    "\n",
    "    # === HEDGING LOGIC ===\n",
    "    # Get beta for this stock\n",
    "    beta = betas.get(ticker, 1)\n",
    "    \n",
    "    # Find FAANG price for this date\n",
    "    \n",
    "\n",
    "    # Calculate hedge volume: (stock_volume * stock_price * beta) / ETF_price\n",
    "    \n",
    "\n",
    "    # Determine hedge direction (opposite of what we did with stock)\n",
    "    \n",
    "\n",
    "    # Create ExchangeTrade for FAANG ETF\n",
    "    \n",
    "\n",
    "    # Execute hedge and update ETF position"
   ]
  },
  {
   "cell_type": "code",
   "execution_count": null,
   "metadata": {
    "deletable": false,
    "editable": false,
    "nbgrader": {
     "cell_type": "code",
     "checksum": "e685973ec5fca57796ef2bf565293df4",
     "grade": true,
     "grade_id": "cell-1b3b13e2787e1be7",
     "locked": true,
     "points": 1,
     "schema_version": 3,
     "solution": false,
     "task": false
    }
   },
   "outputs": [],
   "source": [
    "# GRADING CELL"
   ]
  },
  {
   "cell_type": "markdown",
   "metadata": {
    "deletable": false,
    "editable": false,
    "nbgrader": {
     "cell_type": "markdown",
     "checksum": "25d97866e2f5b6963bd62a6772c1297e",
     "grade": false,
     "grade_id": "cell-fd91340b0f8e082a",
     "locked": true,
     "schema_version": 3,
     "solution": false,
     "task": false
    }
   },
   "source": [
    "## **Challenge 3 - Task B: Visualize Your Total Risk Exposure**\n",
    "For your final analysis, you will create a chart showing the **combined nominal risk** of your entire trading book over time. This graph is crucial as it shows how well your hedging strategy managed to keep your net risk under control. A successful market maker aims to keep this value from growing too large in either a long or short direction.\n",
    "\n",
    "<div style=\"background-color: #FFF3CD; border-left: 6px solid #FFC107; padding: 15px; margin-bottom: 15px; border-radius: 5px;\">\n",
    "    <h4>Chart Requirements</h4>\n",
    "    <p>This plot will track the net value of all open positions over the entire simulation.</p>\n",
    "    <ul>\n",
    "        <li><strong>Data Source:</strong> The balance history, which tracks the total nominal value of your open positions at any given time.</li>\n",
    "        <li><strong>X-axis:</strong> Time / Date</li>\n",
    "        <li><strong>Y-axis:</strong> Combined Nominal Risk Value ($)</li>\n",
    "    </ul>\n",
    "</div>\n",
    "\n",
    "<div style=\"background-color: #E7F3FE; border-left: 6px solid #2196F3; padding: 15px; margin-bottom: 15px; border-radius: 5px;\">\n",
    "<h4>Your Task</h4>\n",
    "<ol>\n",
    "    <li><strong>Extract the Data:</strong> Create lists for time and the corresponding total risk value from the simulation's balance log.</li>\n",
    "    <li><strong>Initialize and Plot:</strong> Use <code>plt.subplots()</code> to create your axes and <code>axes.plot()</code> to draw the risk value over time.</li>\n",
    "    <li><strong>Add Labels and a Zero Line:</strong> Give your chart a clear title (e.g., \"Total Net Position Over Time\") and axis labels. It is highly recommended to add a horizontal line at y=0 to clearly show the moments you are net long (above the line) or net short (below the line).</li>\n",
    "</ol>\n",
    "</div>"
   ]
  },
  {
   "cell_type": "code",
   "execution_count": null,
   "metadata": {
    "deletable": false,
    "nbgrader": {
     "cell_type": "code",
     "checksum": "4ab8ddefdc3ffe16b26e15ffd4258553",
     "grade": false,
     "grade_id": "cell-95ed3c3016595379",
     "locked": false,
     "schema_version": 3,
     "solution": true,
     "task": false
    }
   },
   "outputs": [
    {
     "data": {
      "image/png": "[encoded data removed]",
      "text/plain": [
       "<Figure size 640x480 with 1 Axes>"
      ]
     },
     "metadata": {},
     "output_type": "display_data"
    }
   ],
   "source": [
    "# CHALLENGE 3 TASK B: Visualize total risk exposure\n",
    "# Calculate and plot the total nominal value of all positions over time\n",
    "\n",
    "times = []\n",
    "risks = []\n",
    "\n",
    "# For each trade, calculate total risk across all current positions\n",
    "# Remember: nominal value = volume * price\n",
    "# Loop through mm.current_positions.items() to sum everything\n",
    "\n",
    "\n",
    "\n",
    "\n",
    "\n",
    "\n",
    "# Create a line plot with a horizontal line at zero"
   ]
  },
  {
   "cell_type": "markdown",
   "metadata": {
    "deletable": false,
    "editable": false,
    "nbgrader": {
     "cell_type": "markdown",
     "checksum": "cc1eed58cfb2c15f2a36e537ea4cb4c0",
     "grade": false,
     "grade_id": "cell-8966ddd8d7d50243",
     "locked": true,
     "schema_version": 3,
     "solution": false,
     "task": false
    }
   },
   "source": [
    "## **Arbitrage Trading Research**\n",
    "This research section introduces **arbitrage**, a strategy that seeks to profit from temporary price differences between highly correlated assets. Your goal is to find and exploit these price inefficiencies between the real FAANG ETF and its five underlying component stocks.\n",
    "\n",
    "While the ETF should theoretically mirror the average price changes of its components, market friction can cause them to diverge. Your challenge is to build an algorithm that can spot these moments and capitalize on them.\n",
    "\n",
    "<hr>\n",
    "\n",
    "<div style=\"background-color: #FFF3CD; border-left: 6px solid #FFC107; padding: 15px; margin-bottom: 15px; border-radius: 5px;\">\n",
    "    <h4>The Arbitrage Strategy</h4>\n",
    "    <p>The core of this strategy is to compare the price of the actual ETF with a \"fair value\" that you calculate yourself.</p>\n",
    "    <ul>\n",
    "        <li><strong>Real ETF:</strong> The traded price of the FAANG ETF from the dataset.</li>\n",
    "        <li><strong>Synthetic ETF:</strong> A \"fair value\" you calculate by taking the average of the 5 individual stock price movements.</li>\n",
    "    </ul>\n",
    "    <p>The trading logic is based on which one is cheaper:</p>\n",
    "    <ul>\n",
    "        <li>If <strong>Real ETF < Synthetic ETF</strong> → Buy the cheap Real ETF and sell the expensive components.</li>\n",
    "        <li>If <strong>Real ETF > Synthetic ETF</strong> → Sell the expensive Real ETF and buy the cheap components.</li>\n",
    "    </ul>\n",
    "    <p>Profit is realized when the two prices converge back to their fair relationship.</p>\n",
    "</div>\n",
    "\n",
    "<hr>\n",
    "\n",
    "## **Research Task: Identify Arbitrage Opportunities**\n",
    "Your task is to analyze 6 months of historical price data to build a model that flags potential arbitrage trades.\n",
    "\n",
    "<div style=\"background-color: #E7F3FE; border-left: 6px solid #2196F3; padding: 15px; margin-bottom: 15px; border-radius: 5px;\">\n",
    "<h4>Your Task</h4>\n",
    "<ol>\n",
    "    <li>Load the provided price data into a Pandas DataFrame.</li>\n",
    "    <li>Calculate the value of the <strong>Synthetic ETF</strong> for each day based on the average price movements of the 5 component stocks.</li>\n",
    "    <li>Create a new column or series representing the <strong>spread</strong> (i.e., the difference) between the Real ETF and your Synthetic ETF.</li>\n",
    "    <li>Identify the points in time where this spread is significantly different from zero. These are your potential arbitrage opportunities.</li>\n",
    "</ol>\n",
    "</div>"
   ]
  },
  {
   "cell_type": "code",
   "execution_count": null,
   "metadata": {
    "deletable": false,
    "editable": false,
    "nbgrader": {
     "cell_type": "code",
     "checksum": "7005a6bba8720461be8b756ff9ca691c",
     "grade": false,
     "grade_id": "cell-a840c3109e411c9e",
     "locked": true,
     "schema_version": 3,
     "solution": false,
     "task": false
    }
   },
   "outputs": [],
   "source": [
    "# The code in this cell assigns the Data.get_price_series(\"PricestoFeedserverEtfUpdate\") to the prices variable.\n",
    "prices = Data.get_price_series(\"PricestoFeedserverEtfUpdate\")"
   ]
  },
  {
   "cell_type": "code",
   "execution_count": null,
   "metadata": {
    "deletable": false,
    "editable": false,
    "nbgrader": {
     "cell_type": "code",
     "checksum": "a9da2046a76b5f1d07f01224d9fa59de",
     "grade": false,
     "grade_id": "cell-b82ee1ed300ea4b5",
     "locked": true,
     "schema_version": 3,
     "solution": false,
     "task": false
    }
   },
   "outputs": [],
   "source": [
    "prices_FB = []\n",
    "prices_AAPL = []\n",
    "prices_AMZN = []\n",
    "prices_NFLX =[]\n",
    "prices_GOOGL = []\n",
    "prices_FAANG = []\n",
    "\n",
    "for price in prices:\n",
    "    if price[0] == \"AAPL\":\n",
    "        prices_AAPL.append(price)\n",
    "    elif price[0] == \"FB\":\n",
    "        prices_FB.append(price)\n",
    "    elif price[0] == \"GOOGL\":\n",
    "        prices_GOOGL.append(price)\n",
    "    elif price[0] == \"AMZN\":\n",
    "        prices_AMZN.append(price)\n",
    "    elif price[0] == \"NFLX\":\n",
    "        prices_NFLX.append(price)\n",
    "    elif price[0] == \"FAANG\":\n",
    "        prices_FAANG.append(price)\n",
    "\n",
    "FB_df = pandas.DataFrame(prices_FB)[2]\n",
    "AAPL_df = pandas.DataFrame(prices_AAPL)[2]\n",
    "AMZN_df = pandas.DataFrame(prices_AMZN)[2]\n",
    "NFLX_df = pandas.DataFrame(prices_NFLX)[2]\n",
    "GOOGL_df = pandas.DataFrame(prices_GOOGL)[2]\n",
    "FAANG_df = pandas.DataFrame(prices_FAANG)[2]"
   ]
  },
  {
   "cell_type": "code",
   "execution_count": null,
   "metadata": {
    "deletable": false,
    "nbgrader": {
     "cell_type": "code",
     "checksum": "3da0f394025f200cc6f6a27a022abf42",
     "grade": false,
     "grade_id": "cell-d54961d5b5548149",
     "locked": false,
     "schema_version": 3,
     "solution": true,
     "task": false
    }
   },
   "outputs": [],
   "source": [
    "# ARBITRAGE RESEARCH: Calculate synthetic ETF and identify spread opportunities\n",
    "# Write your code to detect arbitrage opportunities\n",
    "\n",
    "synthetic = []\n",
    "real = []\n",
    "spread = []\n",
    "dates = []\n",
    "\n",
    "for i in range(len(prices_FAANG)):\n",
    "    # Step 1: Get the date and real FAANG ETF price for this time period\n",
    "    date = prices_FAANG['Date'].iloc[i]\n",
    "    real_price = prices_FAANG['Close'].iloc[i]\n",
    "    \n",
    "    # Step 2: Rebase each of the 5 component stocks to start at 100\n",
    "    # Formula: rebased_price = (current_price / first_price) * 100\n",
    "    # Get the current price using .iloc[i] and the first price using .iloc[0]\n",
    "    rebased_AAPL = (prices_AAPL['Close'].iloc[i] / prices_AAPL['Close'].iloc[0]) * 100\n",
    "    rebased_FB = \n",
    "    rebased_AMZN = \n",
    "    rebased_NFLX = \n",
    "    rebased_GOOGL = \n",
    "    \n",
    "    # Step 3: Calculate synthetic ETF as the average of the 5 rebased prices\n",
    "    synthetic_price = \n",
    "    \n",
    "    # Step 4: Calculate the spread (how much real differs from synthetic)\n",
    "    # Positive spread = real ETF is overpriced, negative = underpriced\n",
    "    spread_value = \n",
    "    \n",
    "    # Step 5: Store all values in the lists\n",
    "    dates.append(date)\n",
    "    real.append(real_price)\n",
    "    synthetic.append(synthetic_price)\n",
    "    spread.append(spread_value)"
   ]
  },
  {
   "cell_type": "markdown",
   "metadata": {
    "deletable": false,
    "editable": false,
    "nbgrader": {
     "cell_type": "markdown",
     "checksum": "c35af22b4eeb2885121bf189be020e02",
     "grade": false,
     "grade_id": "cell-200fbeedcf2a5d70",
     "locked": true,
     "schema_version": 3,
     "solution": false,
     "task": false
    }
   },
   "source": [
    "<div style=\"background-color: #E7F3FE; border-left: 6px solid #2196F3; padding: 15px; margin-bottom: 15px; border-radius: 5px;\">\n",
    "    <h4>Visualize Your Findings</h4>\n",
    "    <p>This space is for you to create graphs that showcase your research findings. A strong visual is the best way to prove you have identified a real arbitrage opportunity.</p>\n",
    "    <p><strong>Suggestions for your plot:</strong></p>\n",
    "    <ul>\n",
    "        <li>Plot the price of the <strong>Real ETF</strong> and your <strong>Synthetic ETF</strong> on the same chart to visually identify the divergences.</li>\n",
    "        <li>In a separate subplot below, plot the <strong>spread</strong> (the difference between the two) over time. This makes it easy to see exactly when and by how much the prices have diverged from fair value.</li>\n",
    "    </ul>\n",
    "</div>"
   ]
  },
  {
   "cell_type": "code",
   "execution_count": null,
   "metadata": {
    "deletable": false,
    "nbgrader": {
     "cell_type": "code",
     "checksum": "ff0799eb5302584d085f4726b5252e44",
     "grade": false,
     "grade_id": "cell-94618ea7fe2d603a",
     "locked": false,
     "schema_version": 3,
     "solution": true,
     "task": false
    }
   },
   "outputs": [
    {
     "data": {
      "image/png": "[encoded data removed]",
      "text/plain": [
       "<Figure size 1000x600 with 2 Axes>"
      ]
     },
     "metadata": {},
     "output_type": "display_data"
    }
   ],
   "source": [
    "# ARBITRAGE VISUALIZATION: Create two stacked subplots showing arbitrage opportunities\n",
    "# Top: Real vs Synthetic ETF prices\n",
    "# Bottom: The spread between them (this shows when arbitrage opportunities exist!)\n",
    "\n",
    "# Step 1: Create a figure with 2 vertically stacked subplots\n",
    "# Use plt.subplots(2, 1, figsize=(12, 8))\n",
    "\n",
    "\n",
    "# Step 2: First subplot - plot both the real ETF and synthetic ETF over time\n",
    "# This shows when the two prices diverge\n",
    "\n",
    "\n",
    "# Step 3: Second subplot - plot the spread\n",
    "# Add a horizontal line at y=0 to show the baseline\n",
    "# When spread is far from zero, that's an arbitrage opportunity!\n",
    "\n",
    "\n",
    "# Step 4: Add titles, labels, and legend to both subplots\n",
    "\n",
    "\n",
    "# Display the plot\n",
    "plt.tight_layout()\n",
    "plt.show()"
   ]
  },
  {
   "cell_type": "code",
   "execution_count": null,
   "metadata": {
    "deletable": false,
    "editable": false,
    "nbgrader": {
     "cell_type": "code",
     "checksum": "6ab79bdd4a688f27b6b4a5bc886dc637",
     "grade": false,
     "grade_id": "cell-4478497f237a9f71",
     "locked": true,
     "schema_version": 3,
     "solution": false,
     "task": false
    },
    "pycharm": {
     "name": "#%%\n"
    }
   },
   "outputs": [],
   "source": [
    "# The code in this cell is used to import the packages to be used throughout this notebook.\n",
    "# The following are private packages available only during this simulation:\n",
    "from AmplifyQuantTrading import Data\n",
    "# The following are publicly available packages:\n",
    "from matplotlib import pyplot as plt\n",
    "import pandas\n",
    "# The code in this cell is used to import the packages to be used throughout this task.\n",
    "from AmplifyArbitrageTrading import HedgeFund\n",
    "# The code in this cell assigns the Data.get_price_series(\"PricestoFeedserverEtfUpdate\", True) to the prices variable.\n",
    "prices = Data.get_price_series(\"PricestoFeedserverEtfUpdate\", True)"
   ]
  },
  {
   "cell_type": "code",
   "execution_count": null,
   "metadata": {
    "deletable": false,
    "editable": false,
    "nbgrader": {
     "cell_type": "code",
     "checksum": "107d84b30adab9f0f8e9c348795aa74a",
     "grade": false,
     "grade_id": "cell-f8a60ced119bb65e",
     "locked": true,
     "schema_version": 3,
     "solution": false,
     "task": false
    },
    "pycharm": {
     "name": "#%%\n"
    }
   },
   "outputs": [],
   "source": [
    "# The code below creates the HedgeFund object\n",
    "hedge_fund = HedgeFund.hf(commission_percentage=0.001, data=prices)"
   ]
  },
  {
   "cell_type": "code",
   "execution_count": null,
   "metadata": {
    "deletable": false,
    "nbgrader": {
     "cell_type": "code",
     "checksum": "a725a715bf3845656c5b9469ac0356f8",
     "grade": false,
     "grade_id": "cell-14acb90cac6b0bfb",
     "locked": false,
     "schema_version": 3,
     "solution": true,
     "task": false
    }
   },
   "outputs": [],
   "source": [
    "# ARBITRAGE TRADING ALGORITHM (ADVANCED)\n",
    "# Build an algorithm that trades when the spread is large and closes when it converges\n",
    "import numpy as np\n",
    "\n",
    "open_position = None\n",
    "\n",
    "# Step 1: Calculate dynamic thresholds based on spread statistics\n",
    "# Use np.std() to get standard deviation, np.percentile() for percentiles\n",
    "spread_std = np.std(spread)\n",
    "upper_entry =   # When should we short the real ETF? (spread is very positive)\n",
    "lower_entry =   # When should we long the real ETF? (spread is very negative)\n",
    "exit_threshold =   # When should we close positions? (spread near zero)\n",
    "\n",
    "# Step 2: Main trading loop - iterate through each date\n",
    "for i in range(len(dates)):\n",
    "    d = dates[i]\n",
    "    s = spread[i]\n",
    "    \n",
    "    # Step 3: Entry logic - open new positions when spread is extreme\n",
    "    if open_position is None:\n",
    "        if s > upper_entry:\n",
    "            # Real ETF is overpriced! Short it and buy the components\n",
    "            # Use hedge_fund.execute_order(ticker, volume, \"BUY\" or \"SELL\", date)\n",
    "            # Short FAANG ETF (4550 shares)\n",
    "            \n",
    "            # Buy each component (910 shares each): AAPL, FB, AMZN, NFLX, GOOGL\n",
    "            \n",
    "            \n",
    "            \n",
    "            \n",
    "            \n",
    "            open_position = \"short_real\"\n",
    "            \n",
    "        elif s < lower_entry:\n",
    "            # Real ETF is underpriced! Buy it and short the components\n",
    "            # Buy FAANG ETF (4550 shares)\n",
    "            \n",
    "            # Short each component (910 shares each): AAPL, FB, AMZN, NFLX, GOOGL\n",
    "            \n",
    "            \n",
    "            \n",
    "            \n",
    "            \n",
    "            open_position = \"long_real\"\n",
    "    \n",
    "    # Step 4: Exit logic - close positions when spread converges to zero\n",
    "    else:\n",
    "        if abs(s) < exit_threshold:\n",
    "            if open_position == \"short_real\":\n",
    "                # Close the short position by doing the opposite trades\n",
    "                \n",
    "                \n",
    "                \n",
    "                \n",
    "                \n",
    "                \n",
    "            elif open_position == \"long_real\":\n",
    "                # Close the long position by doing the opposite trades\n",
    "                \n",
    "                \n",
    "                \n",
    "                \n",
    "                \n",
    "                \n",
    "            open_position = None"
   ]
  },
  {
   "cell_type": "code",
   "execution_count": null,
   "metadata": {
    "deletable": false,
    "editable": false,
    "nbgrader": {
     "cell_type": "code",
     "checksum": "2136e58957e4a5070e65fae092ee53b1",
     "grade": false,
     "grade_id": "cell-f6502db8c73476c3",
     "locked": true,
     "schema_version": 3,
     "solution": false,
     "task": false
    },
    "pycharm": {
     "name": "#%%\n"
    }
   },
   "outputs": [
    {
     "name": "stdout",
     "output_type": "stream",
     "text": [
      "Ending Balance:  22191635.54\n",
      "Total Profit or Loss (including commission): 1902711.18\n"
     ]
    }
   ],
   "source": [
    "pnl = 0\n",
    "for ticker in prices:\n",
    "    pnl += hedge_fund.current_positions[ticker].profit_loss - hedge_fund.current_positions[ticker].commission_costs\n",
    "    # If you wanted to print the Dataframes showing each trade.\n",
    "    # print(pandas.DataFrame.from_records(hedge_fund.current_positions[ticker].trade_history))\n",
    "\n",
    "print(\"Ending Balance: \", hedge_fund.balance)\n",
    "\n",
    "print(\"Total Profit or Loss (including commission):\", pnl)"
   ]
  },
  {
   "cell_type": "code",
   "execution_count": null,
   "metadata": {},
   "outputs": [
    {
     "name": "stdout",
     "output_type": "stream",
     "text": [
      "   action   price  volume  commission     date\n",
      "0     BUY  368.77     910      335.58    75000\n",
      "1    SELL  379.99     910      345.79    95000\n",
      "2     BUY  372.78     910      339.23   155000\n",
      "3    SELL  367.26     910      334.21   185000\n",
      "4    SELL  360.70     910      328.24   230000\n",
      "..    ...     ...     ...         ...      ...\n",
      "57   SELL  481.65     910      438.30  5580000\n",
      "58    BUY  470.20     910      427.88  5595000\n",
      "59   SELL  479.05     910      435.94  5605000\n",
      "60    BUY  469.96     910      427.66  5635000\n",
      "61   SELL  481.44     910      438.11  5655000\n",
      "\n",
      "[62 rows x 5 columns]\n"
     ]
    }
   ],
   "source": [
    "print(pandas.DataFrame.from_records(hedge_fund.current_positions[ticker].trade_history))"
   ]
  },
  {
   "cell_type": "code",
   "execution_count": null,
   "metadata": {
    "deletable": false,
    "editable": false,
    "nbgrader": {
     "cell_type": "code",
     "checksum": "c31c754b31fecada91bdaf111c623fc5",
     "grade": true,
     "grade_id": "cell-aa9851ab4e868ff6",
     "locked": true,
     "points": 1,
     "schema_version": 3,
     "solution": false,
     "task": false
    }
   },
   "outputs": [],
   "source": [
    "# GRADING CELL"
   ]
  },
  {
   "cell_type": "code",
   "execution_count": null,
   "metadata": {},
   "outputs": [],
   "source": []
  }
 ],
 "metadata": {
  "kernelspec": {
   "display_name": ".venv (3.12.10)",
   "language": "python",
   "name": "python3"
  },
  "language_info": {
   "codemirror_mode": {
    "name": "ipython",
    "version": 3
   },
   "file_extension": ".py",
   "mimetype": "text/x-python",
   "name": "python",
   "nbconvert_exporter": "python",
   "pygments_lexer": "ipython3",
   "version": "3.12.10"
  }
 },
 "nbformat": 4,
 "nbformat_minor": 4
}
